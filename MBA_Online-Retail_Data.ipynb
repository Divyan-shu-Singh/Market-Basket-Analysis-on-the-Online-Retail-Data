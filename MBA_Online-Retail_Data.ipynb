{
  "cells": [
    {
      "cell_type": "markdown",
      "metadata": {
        "colab_type": "text",
        "id": "view-in-github"
      },
      "source": [
        "<a href=\"https://colab.research.google.com/github/kkrusere/Market-Basket-Analysis-on-the-Online-Retail-Data/blob/main/MBA_Online-Retail_Data.ipynb\" target=\"_parent\"><img src=\"https://colab.research.google.com/assets/colab-badge.svg\" alt=\"Open In Colab\"/></a>"
      ]
    },
    {
      "cell_type": "code",
      "execution_count": 1,
      "metadata": {
        "colab": {
          "base_uri": "https://localhost:8080/"
        },
        "id": "D-5e7fQh7h1T",
        "outputId": "2d7cdcb3-8926-49e6-b58b-aeb678672989"
      },
      "outputs": [
        {
          "name": "stdout",
          "output_type": "stream",
          "text": [
            "Looking in indexes: https://pypi.org/simple, https://us-python.pkg.dev/colab-wheels/public/simple/\n",
            "Requirement already satisfied: kaleido in /usr/local/lib/python3.7/dist-packages (0.2.1)\n"
          ]
        }
      ],
      "source": [
        "pip install -U kaleido"
      ]
    },
    {
      "cell_type": "markdown",
      "metadata": {},
      "source": []
    },
    {
      "cell_type": "markdown",
      "metadata": {
        "id": "AFFseKOEhQXP"
      },
      "source": [
        "## <center> **Market Basket Analysis on Online Retail Data** \n",
        "<center><em>Providing a Retail Business with a strategy which helps improve their product sales, inventory management, and customer retention, which in turn would improve the profitability of the business.</em></center>\n",
        "<br>\n",
        "<center><img src=\"https://github.com/kkrusere/Market-Basket-Analysis-on-the-Online-Retail-Data/blob/main/Assets/MBA.jpg?raw=1\" width=600/></center>\n",
        "\n",
        "***Project Contributors:*** Kuzi Rusere<br>\n",
        "**MBA streamlit App URL:** https://kkrusere-market-basket-analysis-on-the-online-re-mba-app-oi5iot.streamlitapp.com/"
      ]
    },
    {
      "cell_type": "markdown",
      "metadata": {
        "id": "7Y8hEenA6Ak_"
      },
      "source": [
        "### **Project Introduction**\n",
        "\n",
        "***Business Proposition:*** This project aims to provide a Retail Business with a strategy that helps improve their product sales, inventory management, and customer retention, which in turn would improve the profitability of the business. In the retail environment, profitability and the `bottom line` is at the focal point of any organization or business in this space. From product sales, through inventory management to customer acquisition and retention all this one way or the other affects the business' profits and net revenue. Transaction data from the POS (point of sale) systems for a retail business is a treasure trove of insights that can be used to better understand the products, customer purchase behavior, and sales together with the relationship and patterns in between. This project explores the different ways of deriving these insights, patterns, and relationships, and how these can be used in designing, developing, and implementing a strategy to improve the retail business' profits, revenue, and overall operations<br>\n",
        "<br><br>\n",
        "\n",
        "***Methodology:*** Data Mining, Analysis and Visualization of Retail Sales Data.<br>\n",
        "1. Market Basket Analysis (MBA), which aims to find relationship and establishing pattens within the retail sales data. <br>\n",
        "2. Customer Segmentation \n",
        "> * RFM (recency, frequency, monetary) Analysis\n",
        "> * Cohort analysis\n",
        "3. Product Recomendation (people who bought this also bought)\n",
        "\n",
        "In addition, <br>\n",
        "We create a `Streamlit` interactive data visualization tool that allows users interact with the data and analytics."
      ]
    },
    {
      "cell_type": "code",
      "execution_count": 1,
      "metadata": {
        "id": "L7B-0FPxhQXS"
      },
      "outputs": [],
      "source": []
    },
    {
      "cell_type": "markdown",
      "metadata": {
        "id": "XjTzTu8t6Ak_"
      },
      "source": [
        "### **Data Collection**\n"
      ]
    },
    {
      "cell_type": "code",
      "execution_count": 2,
      "metadata": {
        "id": "d-QD70-66AlA"
      },
      "outputs": [],
      "source": [
        "import pandas as pd\n",
        "import numpy as np\n",
        "\n",
        "import plotly.express as px\n",
        "import matplotlib.pyplot as plt\n",
        "from wordcloud import WordCloud\n",
        "\n",
        "import calendar\n",
        "import datetime as dt\n",
        "\n",
        "import re"
      ]
    },
    {
      "cell_type": "code",
      "execution_count": 3,
      "metadata": {
        "id": "rPJnys1M6AlA"
      },
      "outputs": [],
      "source": [
        "#we are going to import the data into a pandas dataframe \n",
        "def data_loading(path):\n",
        "    \"\"\"\n",
        "    This function reads the Excel data file from UCI Machinelearning repository \n",
        "    The data is stored into a pandas dataframe that the fuction returns  \n",
        "    \"\"\"\n",
        "    df = pd.read_excel(path)\n",
        "    return df\n",
        "\n",
        "data_url = \"https://archive.ics.uci.edu/ml/machine-learning-databases/00352/Online%20Retail.xlsx\"\n",
        "\n",
        "df = data_loading(data_url)"
      ]
    },
    {
      "cell_type": "markdown",
      "metadata": {
        "id": "6oUM4Y7T6AlA"
      },
      "source": [
        "**General Information About the Data** <br>\n",
        "This is a transnational data set which contains all the transactions occurring between 01/12/2010 and 09/12/2011 for a UK-based and registered non-store online retail. The company mainly sells unique all-occasion gifts. Many customers of the company are wholesalers. <br>\n",
        "\n",
        "**Information about the Attributes/Columns in the Dataset** <br>\n",
        "\n",
        "***InvoiceNo:*** Invoice number. Nominal, a 6-digit integral number uniquely assigned to each transaction. If this code starts with letter 'c', it indicates a cancellation. <br>\n",
        "\n",
        "***StockCode:*** Product (item) code. Nominal, a 5-digit integral number uniquely assigned to each distinct product. <br>\n",
        "\n",
        "***Description:*** Product (item) name. Nominal. <br>\n",
        "\n",
        "***Quantity:*** The quantities of each product (item) per transaction. Numeric.<br>\n",
        "\n",
        "***InvoiceDate:*** Invice Date and time. Numeric, the day and time when each transaction was generated. <br>\n",
        "\n",
        "***UnitPrice:*** Unit price. Numeric, Product price per unit in sterling.<br>\n",
        "\n",
        "***CustomerID:*** Customer number. Nominal, a 5-digit integral number uniquely assigned to each customer. <br>\n",
        "\n",
        "***Country:*** Country name. Nominal, the name of the country where each customer resides. <br>"
      ]
    },
    {
      "cell_type": "code",
      "execution_count": 4,
      "metadata": {
        "colab": {
          "base_uri": "https://localhost:8080/",
          "height": 201
        },
        "id": "-H92oA2q6AlB",
        "outputId": "3fc6699d-0160-4f11-da82-46284f607d06"
      },
      "outputs": [
        {
          "data": {
            "text/html": [
              "\n",
              "  <div id=\"df-2e205496-9893-4129-b90f-2805aecd216d\">\n",
              "    <div class=\"colab-df-container\">\n",
              "      <div>\n",
              "<style scoped>\n",
              "    .dataframe tbody tr th:only-of-type {\n",
              "        vertical-align: middle;\n",
              "    }\n",
              "\n",
              "    .dataframe tbody tr th {\n",
              "        vertical-align: top;\n",
              "    }\n",
              "\n",
              "    .dataframe thead th {\n",
              "        text-align: right;\n",
              "    }\n",
              "</style>\n",
              "<table border=\"1\" class=\"dataframe\">\n",
              "  <thead>\n",
              "    <tr style=\"text-align: right;\">\n",
              "      <th></th>\n",
              "      <th>InvoiceNo</th>\n",
              "      <th>StockCode</th>\n",
              "      <th>Description</th>\n",
              "      <th>Quantity</th>\n",
              "      <th>InvoiceDate</th>\n",
              "      <th>UnitPrice</th>\n",
              "      <th>CustomerID</th>\n",
              "      <th>Country</th>\n",
              "    </tr>\n",
              "  </thead>\n",
              "  <tbody>\n",
              "    <tr>\n",
              "      <th>0</th>\n",
              "      <td>536365</td>\n",
              "      <td>85123A</td>\n",
              "      <td>WHITE HANGING HEART T-LIGHT HOLDER</td>\n",
              "      <td>6</td>\n",
              "      <td>2010-12-01 08:26:00</td>\n",
              "      <td>2.55</td>\n",
              "      <td>17850.0</td>\n",
              "      <td>United Kingdom</td>\n",
              "    </tr>\n",
              "    <tr>\n",
              "      <th>1</th>\n",
              "      <td>536365</td>\n",
              "      <td>71053</td>\n",
              "      <td>WHITE METAL LANTERN</td>\n",
              "      <td>6</td>\n",
              "      <td>2010-12-01 08:26:00</td>\n",
              "      <td>3.39</td>\n",
              "      <td>17850.0</td>\n",
              "      <td>United Kingdom</td>\n",
              "    </tr>\n",
              "    <tr>\n",
              "      <th>2</th>\n",
              "      <td>536365</td>\n",
              "      <td>84406B</td>\n",
              "      <td>CREAM CUPID HEARTS COAT HANGER</td>\n",
              "      <td>8</td>\n",
              "      <td>2010-12-01 08:26:00</td>\n",
              "      <td>2.75</td>\n",
              "      <td>17850.0</td>\n",
              "      <td>United Kingdom</td>\n",
              "    </tr>\n",
              "    <tr>\n",
              "      <th>3</th>\n",
              "      <td>536365</td>\n",
              "      <td>84029G</td>\n",
              "      <td>KNITTED UNION FLAG HOT WATER BOTTLE</td>\n",
              "      <td>6</td>\n",
              "      <td>2010-12-01 08:26:00</td>\n",
              "      <td>3.39</td>\n",
              "      <td>17850.0</td>\n",
              "      <td>United Kingdom</td>\n",
              "    </tr>\n",
              "    <tr>\n",
              "      <th>4</th>\n",
              "      <td>536365</td>\n",
              "      <td>84029E</td>\n",
              "      <td>RED WOOLLY HOTTIE WHITE HEART.</td>\n",
              "      <td>6</td>\n",
              "      <td>2010-12-01 08:26:00</td>\n",
              "      <td>3.39</td>\n",
              "      <td>17850.0</td>\n",
              "      <td>United Kingdom</td>\n",
              "    </tr>\n",
              "  </tbody>\n",
              "</table>\n",
              "</div>\n",
              "      <button class=\"colab-df-convert\" onclick=\"convertToInteractive('df-2e205496-9893-4129-b90f-2805aecd216d')\"\n",
              "              title=\"Convert this dataframe to an interactive table.\"\n",
              "              style=\"display:none;\">\n",
              "        \n",
              "  <svg xmlns=\"http://www.w3.org/2000/svg\" height=\"24px\"viewBox=\"0 0 24 24\"\n",
              "       width=\"24px\">\n",
              "    <path d=\"M0 0h24v24H0V0z\" fill=\"none\"/>\n",
              "    <path d=\"M18.56 5.44l.94 2.06.94-2.06 2.06-.94-2.06-.94-.94-2.06-.94 2.06-2.06.94zm-11 1L8.5 8.5l.94-2.06 2.06-.94-2.06-.94L8.5 2.5l-.94 2.06-2.06.94zm10 10l.94 2.06.94-2.06 2.06-.94-2.06-.94-.94-2.06-.94 2.06-2.06.94z\"/><path d=\"M17.41 7.96l-1.37-1.37c-.4-.4-.92-.59-1.43-.59-.52 0-1.04.2-1.43.59L10.3 9.45l-7.72 7.72c-.78.78-.78 2.05 0 2.83L4 21.41c.39.39.9.59 1.41.59.51 0 1.02-.2 1.41-.59l7.78-7.78 2.81-2.81c.8-.78.8-2.07 0-2.86zM5.41 20L4 18.59l7.72-7.72 1.47 1.35L5.41 20z\"/>\n",
              "  </svg>\n",
              "      </button>\n",
              "      \n",
              "  <style>\n",
              "    .colab-df-container {\n",
              "      display:flex;\n",
              "      flex-wrap:wrap;\n",
              "      gap: 12px;\n",
              "    }\n",
              "\n",
              "    .colab-df-convert {\n",
              "      background-color: #E8F0FE;\n",
              "      border: none;\n",
              "      border-radius: 50%;\n",
              "      cursor: pointer;\n",
              "      display: none;\n",
              "      fill: #1967D2;\n",
              "      height: 32px;\n",
              "      padding: 0 0 0 0;\n",
              "      width: 32px;\n",
              "    }\n",
              "\n",
              "    .colab-df-convert:hover {\n",
              "      background-color: #E2EBFA;\n",
              "      box-shadow: 0px 1px 2px rgba(60, 64, 67, 0.3), 0px 1px 3px 1px rgba(60, 64, 67, 0.15);\n",
              "      fill: #174EA6;\n",
              "    }\n",
              "\n",
              "    [theme=dark] .colab-df-convert {\n",
              "      background-color: #3B4455;\n",
              "      fill: #D2E3FC;\n",
              "    }\n",
              "\n",
              "    [theme=dark] .colab-df-convert:hover {\n",
              "      background-color: #434B5C;\n",
              "      box-shadow: 0px 1px 3px 1px rgba(0, 0, 0, 0.15);\n",
              "      filter: drop-shadow(0px 1px 2px rgba(0, 0, 0, 0.3));\n",
              "      fill: #FFFFFF;\n",
              "    }\n",
              "  </style>\n",
              "\n",
              "      <script>\n",
              "        const buttonEl =\n",
              "          document.querySelector('#df-2e205496-9893-4129-b90f-2805aecd216d button.colab-df-convert');\n",
              "        buttonEl.style.display =\n",
              "          google.colab.kernel.accessAllowed ? 'block' : 'none';\n",
              "\n",
              "        async function convertToInteractive(key) {\n",
              "          const element = document.querySelector('#df-2e205496-9893-4129-b90f-2805aecd216d');\n",
              "          const dataTable =\n",
              "            await google.colab.kernel.invokeFunction('convertToInteractive',\n",
              "                                                     [key], {});\n",
              "          if (!dataTable) return;\n",
              "\n",
              "          const docLinkHtml = 'Like what you see? Visit the ' +\n",
              "            '<a target=\"_blank\" href=https://colab.research.google.com/notebooks/data_table.ipynb>data table notebook</a>'\n",
              "            + ' to learn more about interactive tables.';\n",
              "          element.innerHTML = '';\n",
              "          dataTable['output_type'] = 'display_data';\n",
              "          await google.colab.output.renderOutput(dataTable, element);\n",
              "          const docLink = document.createElement('div');\n",
              "          docLink.innerHTML = docLinkHtml;\n",
              "          element.appendChild(docLink);\n",
              "        }\n",
              "      </script>\n",
              "    </div>\n",
              "  </div>\n",
              "  "
            ],
            "text/plain": [
              "  InvoiceNo StockCode                          Description  Quantity  \\\n",
              "0    536365    85123A   WHITE HANGING HEART T-LIGHT HOLDER         6   \n",
              "1    536365     71053                  WHITE METAL LANTERN         6   \n",
              "2    536365    84406B       CREAM CUPID HEARTS COAT HANGER         8   \n",
              "3    536365    84029G  KNITTED UNION FLAG HOT WATER BOTTLE         6   \n",
              "4    536365    84029E       RED WOOLLY HOTTIE WHITE HEART.         6   \n",
              "\n",
              "          InvoiceDate  UnitPrice  CustomerID         Country  \n",
              "0 2010-12-01 08:26:00       2.55     17850.0  United Kingdom  \n",
              "1 2010-12-01 08:26:00       3.39     17850.0  United Kingdom  \n",
              "2 2010-12-01 08:26:00       2.75     17850.0  United Kingdom  \n",
              "3 2010-12-01 08:26:00       3.39     17850.0  United Kingdom  \n",
              "4 2010-12-01 08:26:00       3.39     17850.0  United Kingdom  "
            ]
          },
          "execution_count": 4,
          "metadata": {},
          "output_type": "execute_result"
        }
      ],
      "source": [
        "df.head()"
      ]
    },
    {
      "cell_type": "markdown",
      "metadata": {
        "id": "adzfuC0g6AlB"
      },
      "source": [
        "We are going to use the pandas '.shape' function/method to the total number of columns and rows of the dataframe. We can see that our dataframe contains 541909 rows and 8 columns"
      ]
    },
    {
      "cell_type": "code",
      "execution_count": 5,
      "metadata": {
        "colab": {
          "base_uri": "https://localhost:8080/"
        },
        "id": "zbqOcrMI6AlB",
        "outputId": "3b4f391c-c11f-4b8b-9578-719d4c1f4f73"
      },
      "outputs": [
        {
          "data": {
            "text/plain": [
              "(541909, 8)"
            ]
          },
          "execution_count": 5,
          "metadata": {},
          "output_type": "execute_result"
        }
      ],
      "source": [
        "df.shape"
      ]
    },
    {
      "cell_type": "markdown",
      "metadata": {
        "id": "nNlz6C3c6AlC"
      },
      "source": [
        "We'll use the pandas '.info()' function so see the general infomation (data types, null value count, etc.) about the data."
      ]
    },
    {
      "cell_type": "code",
      "execution_count": 6,
      "metadata": {
        "colab": {
          "base_uri": "https://localhost:8080/"
        },
        "id": "NWA1z-8G6AlC",
        "outputId": "f9d0d4eb-8006-4209-8f03-3a9818ff8f28"
      },
      "outputs": [
        {
          "name": "stdout",
          "output_type": "stream",
          "text": [
            "<class 'pandas.core.frame.DataFrame'>\n",
            "RangeIndex: 541909 entries, 0 to 541908\n",
            "Data columns (total 8 columns):\n",
            " #   Column       Non-Null Count   Dtype         \n",
            "---  ------       --------------   -----         \n",
            " 0   InvoiceNo    541909 non-null  object        \n",
            " 1   StockCode    541909 non-null  object        \n",
            " 2   Description  540455 non-null  object        \n",
            " 3   Quantity     541909 non-null  int64         \n",
            " 4   InvoiceDate  541909 non-null  datetime64[ns]\n",
            " 5   UnitPrice    541909 non-null  float64       \n",
            " 6   CustomerID   406829 non-null  float64       \n",
            " 7   Country      541909 non-null  object        \n",
            "dtypes: datetime64[ns](1), float64(2), int64(1), object(4)\n",
            "memory usage: 33.1+ MB\n"
          ]
        }
      ],
      "source": [
        "df.info()"
      ]
    },
    {
      "cell_type": "markdown",
      "metadata": {
        "id": "ttbWOKWm6AlC"
      },
      "source": [
        "From the above we can see that the Description and CustomerID columns have null values, and that the CustomerID has data type float64. \n",
        "> * We are going to convert the CustomerID datatype to 'string' and ***Consider*** the null values in this columns ***Guest Customer*** implying that they are customers that do not have Customer IDs.<br> <br>\n",
        "> * For the null values in the Description column, we are also going to delete the rows, since we do not have any use of them in this particular project."
      ]
    },
    {
      "cell_type": "markdown",
      "metadata": {
        "id": "W9Ny1apM6AlC"
      },
      "source": [
        "### **Data Cleaning and Preparation**"
      ]
    },
    {
      "cell_type": "markdown",
      "metadata": {
        "id": "Dt8RkQCW6AlC"
      },
      "source": [
        "We are going to create a function that will encompass all the cleaning and manipulation/modifications that we are going to do to the data.\n",
        "\n",
        "**What we are going to do to the data frame:**<br>\n",
        "* Changing the CustomerID to dtype 'object' and replace the null values to 'Guest Customer'.<br><br>\n",
        "* Remove the rows that have null values from the Description column. we are also going to remove rows that have a product description that has a length less than or equal to 6 characters, this is because the description is not actually products (well from our understanding). Below is a sample of some of these descriptions \n",
        "> ['wet?','Damaged','Missing','Discount','lost','MIA','SAMPLES','Display','mailout ','?','missing?','broken','lost??','CARRIAGE','mouldy','smashed']\n",
        "* Cancelled orders will be removed, since as per the info about the attributes/columns of our dataset, for the 'InvoiceNo' the entries that contain a 'c' is a canceled orders.<br><br>\n",
        "* We are going to remove the data entries from 2010 and then split the 'Invoice Date' column into just Date (without the time), Time, Month, Day, Week, Day of the Week, Hour, Time of Day (which is either Morning, Afternoon or Evening). We are going to need these to dissect the transactions at different periods.<br><br>\n",
        "* We are also going to remove and consolidate duplicated entries in the product description that have the same `stockcode`\n",
        "* A 'Sales Revenue' column will be created by multiplying the 'Quantity' and 'UnitPrice' columns. This will give the monetary value of each data entry.\n"
      ]
    },
    {
      "cell_type": "code",
      "execution_count": 7,
      "metadata": {
        "id": "Qr0MM8qV6AlC"
      },
      "outputs": [],
      "source": [
        "def data_cleaning_and_prep(df):\n",
        "    \"\"\"  \n",
        "    This is the Data Cleaning and Preperation Function\n",
        "    It takes in a dataframe, does the data cleaning and prep and returns dataframe\n",
        "    \"\"\"\n",
        "    ######*****CustomerID column******###########\n",
        "    #replacing the nan with 'Guest Customer' so that we can convert to int to remove the decimal point\n",
        "    df[\"CustomerID\"] = df[\"CustomerID\"].fillna(\"Guest Customer\")\n",
        "\n",
        "    ######*****InvoiceDate column******###########\n",
        "    df['Date'] = df['InvoiceDate'].dt.date\n",
        "    df['Month'] = df['InvoiceDate'].dt.month\n",
        "    df['Year'] = df['InvoiceDate'].dt.year\n",
        "    #we change the number month to the actual name of the month \n",
        "    df['Month'] = df['Month'].apply(lambda x: calendar.month_name[int(x)])\n",
        "    df['Week of the Year'] = df['InvoiceDate'].dt.isocalendar().week\n",
        "    #we will add the day of the week to the dataframe \n",
        "    df['Day of Week'] = df['InvoiceDate'].dt.day_name()\n",
        "    df['Time'] = df['InvoiceDate'].dt.time\n",
        "    df[\"Hour\"] = df['InvoiceDate'].dt.hour\n",
        "    df['Time of Day']=pd.cut(df['InvoiceDate'].dt.hour,[0,6,12,18,23],labels=['Night','Morning','Afternoon','Evening'],include_lowest=True)\n",
        "    #lastly here, we will drop the row from the year 2010\n",
        "    index_names = df[df['Year'] == 2010].index\n",
        "    df.drop(index_names, inplace = True)\n",
        "    df.drop('Year', axis=1, inplace=True)\n",
        "\n",
        "    ######*****InvoiceNo column******#############\n",
        "    #now we drop the row with cancelled orders\n",
        "    df['InvoiceNo'] = df['InvoiceNo'].dropna()\n",
        "\n",
        "    #####*****Sales Revenue column******##########\n",
        "    #we'll create a column called 'Sales Revenue' = 'Quantity' multiplied by 'UnitPrice'\n",
        "    df['Sales Revenue'] = df['UnitPrice'] * df['Quantity']\n",
        "\n",
        "    #####*****Country column******##########\n",
        "    #we are going to drop the rows that have \"Unspecified\" country\n",
        "    df.drop(df[df[\"Country\"] == \"Unspecified\"].index, inplace = True)\n",
        "\n",
        "    ###drop row were the quantity and sales revenue that is less than 0 and drop duplicated rows if any\n",
        "    index_names = df[df['Quantity'] <= 0].index\n",
        "    df.drop(index_names, inplace = True)\n",
        "    index_names = df[df['Sales Revenue'] <= 0].index\n",
        "    df.drop(index_names, inplace = True)\n",
        "    df.drop_duplicates(inplace = True)\n",
        "\n",
        "    ######*****Description column******###########\n",
        "    #dropping the nan from the Description column\n",
        "    df.dropna(subset = ['Description'], inplace= True)\n",
        "    #removing the descriptions with lenth less than or equal to 8 characters\n",
        "    df.drop(df[df.Description.str.len() <= 8].index, inplace=True)\n",
        "    #we are going to drop this special case row with description '20713' at index '417090'\n",
        "    df.drop(df.index[417090], inplace=True)\n",
        "    #the description to lower case\n",
        "    df.Description = df.Description.str.lower()\n",
        "    #we are also going to remove the row that have description value \"dotcom postage\"\n",
        "    index_names = df[ df['Description'] == \"dotcom postage\" ].index\n",
        "    # drop these row indexes\n",
        "    # from dataFrame\n",
        "    df.Description = df.Description.str.upper()\n",
        "    df[\"Description\"] = df[\"Description\"].str.strip()\n",
        "    df.drop(index_names, inplace = True)\n",
        "    #getting rid of the duplicated product discription\n",
        "    the_dict = dict()\n",
        "    df.reset_index(drop=True, inplace=True)\n",
        "    for i, code in enumerate(df[\"StockCode\"]):\n",
        "        if code not in the_dict:\n",
        "            the_dict[code] = list()\n",
        "        if df[\"Description\"][i] not in the_dict[code]:\n",
        "            the_dict[code].append(df[\"Description\"][i])\n",
        "\n",
        "    dict_to_look_at = dict()\n",
        "    for key in the_dict:\n",
        "        if len(the_dict[key]) > 1:\n",
        "            dict_to_look_at[key] = the_dict[key]\n",
        "\n",
        "    key_list = list(dict_to_look_at.keys())\n",
        "    for key_l in key_list:\n",
        "        x = dict_to_look_at[key_l]\n",
        "        max_len = 0\n",
        "        index = 0\n",
        "        for i in range(len(x)):\n",
        "            if len((x[i]).split()) >= max_len:\n",
        "                max_len = len((x[i]).split())\n",
        "                index = i\n",
        "        dict_to_look_at[key_l] = x[index]\n",
        "\n",
        "    for key in dict_to_look_at:\n",
        "        df.loc[df[\"StockCode\"] == key, \"Description\"] = dict_to_look_at[key]\n",
        "\n",
        "    return df\n",
        "\n",
        "df = data_cleaning_and_prep(df)"
      ]
    },
    {
      "cell_type": "markdown",
      "metadata": {
        "id": "GmN-p2ah6AlD"
      },
      "source": [
        "After cleaning the data we are left with 481313 and now have 16 columns. "
      ]
    },
    {
      "cell_type": "code",
      "execution_count": 8,
      "metadata": {
        "colab": {
          "base_uri": "https://localhost:8080/"
        },
        "id": "bbDh9Nj16AlD",
        "outputId": "84187171-b3e8-4b25-e418-5fd8c5827917"
      },
      "outputs": [
        {
          "data": {
            "text/plain": [
              "(481313, 16)"
            ]
          },
          "execution_count": 8,
          "metadata": {},
          "output_type": "execute_result"
        }
      ],
      "source": [
        "df.shape"
      ]
    },
    {
      "cell_type": "markdown",
      "metadata": {
        "id": "lbTmGt4w6AlD"
      },
      "source": []
    },
    {
      "cell_type": "code",
      "execution_count": 9,
      "metadata": {
        "colab": {
          "base_uri": "https://localhost:8080/",
          "height": 343
        },
        "id": "6Tte43zs6AlD",
        "outputId": "70c1fb06-91c3-4805-da1a-40968e9047e8"
      },
      "outputs": [
        {
          "data": {
            "text/html": [
              "\n",
              "  <div id=\"df-89b0fee0-d3f0-4ad9-ab6b-2858ac17343f\">\n",
              "    <div class=\"colab-df-container\">\n",
              "      <div>\n",
              "<style scoped>\n",
              "    .dataframe tbody tr th:only-of-type {\n",
              "        vertical-align: middle;\n",
              "    }\n",
              "\n",
              "    .dataframe tbody tr th {\n",
              "        vertical-align: top;\n",
              "    }\n",
              "\n",
              "    .dataframe thead th {\n",
              "        text-align: right;\n",
              "    }\n",
              "</style>\n",
              "<table border=\"1\" class=\"dataframe\">\n",
              "  <thead>\n",
              "    <tr style=\"text-align: right;\">\n",
              "      <th></th>\n",
              "      <th>InvoiceNo</th>\n",
              "      <th>StockCode</th>\n",
              "      <th>Description</th>\n",
              "      <th>Quantity</th>\n",
              "      <th>InvoiceDate</th>\n",
              "      <th>UnitPrice</th>\n",
              "      <th>CustomerID</th>\n",
              "      <th>Country</th>\n",
              "      <th>Date</th>\n",
              "      <th>Month</th>\n",
              "      <th>Week of the Year</th>\n",
              "      <th>Day of Week</th>\n",
              "      <th>Time</th>\n",
              "      <th>Hour</th>\n",
              "      <th>Time of Day</th>\n",
              "      <th>Sales Revenue</th>\n",
              "    </tr>\n",
              "  </thead>\n",
              "  <tbody>\n",
              "    <tr>\n",
              "      <th>0</th>\n",
              "      <td>539993</td>\n",
              "      <td>22386</td>\n",
              "      <td>JUMBO BAG PINK POLKADOT</td>\n",
              "      <td>10</td>\n",
              "      <td>2011-01-04 10:00:00</td>\n",
              "      <td>1.95</td>\n",
              "      <td>13313.0</td>\n",
              "      <td>United Kingdom</td>\n",
              "      <td>2011-01-04</td>\n",
              "      <td>January</td>\n",
              "      <td>1</td>\n",
              "      <td>Tuesday</td>\n",
              "      <td>10:00:00</td>\n",
              "      <td>10</td>\n",
              "      <td>Morning</td>\n",
              "      <td>19.5</td>\n",
              "    </tr>\n",
              "    <tr>\n",
              "      <th>1</th>\n",
              "      <td>539993</td>\n",
              "      <td>21499</td>\n",
              "      <td>BLUE POLKADOT WRAP</td>\n",
              "      <td>25</td>\n",
              "      <td>2011-01-04 10:00:00</td>\n",
              "      <td>0.42</td>\n",
              "      <td>13313.0</td>\n",
              "      <td>United Kingdom</td>\n",
              "      <td>2011-01-04</td>\n",
              "      <td>January</td>\n",
              "      <td>1</td>\n",
              "      <td>Tuesday</td>\n",
              "      <td>10:00:00</td>\n",
              "      <td>10</td>\n",
              "      <td>Morning</td>\n",
              "      <td>10.5</td>\n",
              "    </tr>\n",
              "    <tr>\n",
              "      <th>2</th>\n",
              "      <td>539993</td>\n",
              "      <td>21498</td>\n",
              "      <td>RED RETROSPOT WRAP</td>\n",
              "      <td>25</td>\n",
              "      <td>2011-01-04 10:00:00</td>\n",
              "      <td>0.42</td>\n",
              "      <td>13313.0</td>\n",
              "      <td>United Kingdom</td>\n",
              "      <td>2011-01-04</td>\n",
              "      <td>January</td>\n",
              "      <td>1</td>\n",
              "      <td>Tuesday</td>\n",
              "      <td>10:00:00</td>\n",
              "      <td>10</td>\n",
              "      <td>Morning</td>\n",
              "      <td>10.5</td>\n",
              "    </tr>\n",
              "    <tr>\n",
              "      <th>3</th>\n",
              "      <td>539993</td>\n",
              "      <td>22379</td>\n",
              "      <td>RECYCLING BAG RETROSPOT</td>\n",
              "      <td>5</td>\n",
              "      <td>2011-01-04 10:00:00</td>\n",
              "      <td>2.10</td>\n",
              "      <td>13313.0</td>\n",
              "      <td>United Kingdom</td>\n",
              "      <td>2011-01-04</td>\n",
              "      <td>January</td>\n",
              "      <td>1</td>\n",
              "      <td>Tuesday</td>\n",
              "      <td>10:00:00</td>\n",
              "      <td>10</td>\n",
              "      <td>Morning</td>\n",
              "      <td>10.5</td>\n",
              "    </tr>\n",
              "    <tr>\n",
              "      <th>4</th>\n",
              "      <td>539993</td>\n",
              "      <td>20718</td>\n",
              "      <td>RED RETROSPOT SHOPPER BAG</td>\n",
              "      <td>10</td>\n",
              "      <td>2011-01-04 10:00:00</td>\n",
              "      <td>1.25</td>\n",
              "      <td>13313.0</td>\n",
              "      <td>United Kingdom</td>\n",
              "      <td>2011-01-04</td>\n",
              "      <td>January</td>\n",
              "      <td>1</td>\n",
              "      <td>Tuesday</td>\n",
              "      <td>10:00:00</td>\n",
              "      <td>10</td>\n",
              "      <td>Morning</td>\n",
              "      <td>12.5</td>\n",
              "    </tr>\n",
              "  </tbody>\n",
              "</table>\n",
              "</div>\n",
              "      <button class=\"colab-df-convert\" onclick=\"convertToInteractive('df-89b0fee0-d3f0-4ad9-ab6b-2858ac17343f')\"\n",
              "              title=\"Convert this dataframe to an interactive table.\"\n",
              "              style=\"display:none;\">\n",
              "        \n",
              "  <svg xmlns=\"http://www.w3.org/2000/svg\" height=\"24px\"viewBox=\"0 0 24 24\"\n",
              "       width=\"24px\">\n",
              "    <path d=\"M0 0h24v24H0V0z\" fill=\"none\"/>\n",
              "    <path d=\"M18.56 5.44l.94 2.06.94-2.06 2.06-.94-2.06-.94-.94-2.06-.94 2.06-2.06.94zm-11 1L8.5 8.5l.94-2.06 2.06-.94-2.06-.94L8.5 2.5l-.94 2.06-2.06.94zm10 10l.94 2.06.94-2.06 2.06-.94-2.06-.94-.94-2.06-.94 2.06-2.06.94z\"/><path d=\"M17.41 7.96l-1.37-1.37c-.4-.4-.92-.59-1.43-.59-.52 0-1.04.2-1.43.59L10.3 9.45l-7.72 7.72c-.78.78-.78 2.05 0 2.83L4 21.41c.39.39.9.59 1.41.59.51 0 1.02-.2 1.41-.59l7.78-7.78 2.81-2.81c.8-.78.8-2.07 0-2.86zM5.41 20L4 18.59l7.72-7.72 1.47 1.35L5.41 20z\"/>\n",
              "  </svg>\n",
              "      </button>\n",
              "      \n",
              "  <style>\n",
              "    .colab-df-container {\n",
              "      display:flex;\n",
              "      flex-wrap:wrap;\n",
              "      gap: 12px;\n",
              "    }\n",
              "\n",
              "    .colab-df-convert {\n",
              "      background-color: #E8F0FE;\n",
              "      border: none;\n",
              "      border-radius: 50%;\n",
              "      cursor: pointer;\n",
              "      display: none;\n",
              "      fill: #1967D2;\n",
              "      height: 32px;\n",
              "      padding: 0 0 0 0;\n",
              "      width: 32px;\n",
              "    }\n",
              "\n",
              "    .colab-df-convert:hover {\n",
              "      background-color: #E2EBFA;\n",
              "      box-shadow: 0px 1px 2px rgba(60, 64, 67, 0.3), 0px 1px 3px 1px rgba(60, 64, 67, 0.15);\n",
              "      fill: #174EA6;\n",
              "    }\n",
              "\n",
              "    [theme=dark] .colab-df-convert {\n",
              "      background-color: #3B4455;\n",
              "      fill: #D2E3FC;\n",
              "    }\n",
              "\n",
              "    [theme=dark] .colab-df-convert:hover {\n",
              "      background-color: #434B5C;\n",
              "      box-shadow: 0px 1px 3px 1px rgba(0, 0, 0, 0.15);\n",
              "      filter: drop-shadow(0px 1px 2px rgba(0, 0, 0, 0.3));\n",
              "      fill: #FFFFFF;\n",
              "    }\n",
              "  </style>\n",
              "\n",
              "      <script>\n",
              "        const buttonEl =\n",
              "          document.querySelector('#df-89b0fee0-d3f0-4ad9-ab6b-2858ac17343f button.colab-df-convert');\n",
              "        buttonEl.style.display =\n",
              "          google.colab.kernel.accessAllowed ? 'block' : 'none';\n",
              "\n",
              "        async function convertToInteractive(key) {\n",
              "          const element = document.querySelector('#df-89b0fee0-d3f0-4ad9-ab6b-2858ac17343f');\n",
              "          const dataTable =\n",
              "            await google.colab.kernel.invokeFunction('convertToInteractive',\n",
              "                                                     [key], {});\n",
              "          if (!dataTable) return;\n",
              "\n",
              "          const docLinkHtml = 'Like what you see? Visit the ' +\n",
              "            '<a target=\"_blank\" href=https://colab.research.google.com/notebooks/data_table.ipynb>data table notebook</a>'\n",
              "            + ' to learn more about interactive tables.';\n",
              "          element.innerHTML = '';\n",
              "          dataTable['output_type'] = 'display_data';\n",
              "          await google.colab.output.renderOutput(dataTable, element);\n",
              "          const docLink = document.createElement('div');\n",
              "          docLink.innerHTML = docLinkHtml;\n",
              "          element.appendChild(docLink);\n",
              "        }\n",
              "      </script>\n",
              "    </div>\n",
              "  </div>\n",
              "  "
            ],
            "text/plain": [
              "  InvoiceNo StockCode                Description  Quantity  \\\n",
              "0    539993     22386    JUMBO BAG PINK POLKADOT        10   \n",
              "1    539993     21499         BLUE POLKADOT WRAP        25   \n",
              "2    539993     21498         RED RETROSPOT WRAP        25   \n",
              "3    539993     22379    RECYCLING BAG RETROSPOT         5   \n",
              "4    539993     20718  RED RETROSPOT SHOPPER BAG        10   \n",
              "\n",
              "          InvoiceDate  UnitPrice CustomerID         Country        Date  \\\n",
              "0 2011-01-04 10:00:00       1.95    13313.0  United Kingdom  2011-01-04   \n",
              "1 2011-01-04 10:00:00       0.42    13313.0  United Kingdom  2011-01-04   \n",
              "2 2011-01-04 10:00:00       0.42    13313.0  United Kingdom  2011-01-04   \n",
              "3 2011-01-04 10:00:00       2.10    13313.0  United Kingdom  2011-01-04   \n",
              "4 2011-01-04 10:00:00       1.25    13313.0  United Kingdom  2011-01-04   \n",
              "\n",
              "     Month  Week of the Year Day of Week      Time  Hour Time of Day  \\\n",
              "0  January                 1     Tuesday  10:00:00    10     Morning   \n",
              "1  January                 1     Tuesday  10:00:00    10     Morning   \n",
              "2  January                 1     Tuesday  10:00:00    10     Morning   \n",
              "3  January                 1     Tuesday  10:00:00    10     Morning   \n",
              "4  January                 1     Tuesday  10:00:00    10     Morning   \n",
              "\n",
              "   Sales Revenue  \n",
              "0           19.5  \n",
              "1           10.5  \n",
              "2           10.5  \n",
              "3           10.5  \n",
              "4           12.5  "
            ]
          },
          "execution_count": 9,
          "metadata": {},
          "output_type": "execute_result"
        }
      ],
      "source": [
        "df.head()"
      ]
    },
    {
      "cell_type": "code",
      "execution_count": 10,
      "metadata": {
        "colab": {
          "base_uri": "https://localhost:8080/"
        },
        "id": "CXSc4ouH6AlE",
        "outputId": "22e4d4f2-9582-4ec0-d7d8-1d9f0509806b"
      },
      "outputs": [
        {
          "name": "stdout",
          "output_type": "stream",
          "text": [
            "<class 'pandas.core.frame.DataFrame'>\n",
            "RangeIndex: 481313 entries, 0 to 481312\n",
            "Data columns (total 16 columns):\n",
            " #   Column            Non-Null Count   Dtype         \n",
            "---  ------            --------------   -----         \n",
            " 0   InvoiceNo         481313 non-null  object        \n",
            " 1   StockCode         481313 non-null  object        \n",
            " 2   Description       481313 non-null  object        \n",
            " 3   Quantity          481313 non-null  int64         \n",
            " 4   InvoiceDate       481313 non-null  datetime64[ns]\n",
            " 5   UnitPrice         481313 non-null  float64       \n",
            " 6   CustomerID        481313 non-null  object        \n",
            " 7   Country           481313 non-null  object        \n",
            " 8   Date              481313 non-null  object        \n",
            " 9   Month             481313 non-null  object        \n",
            " 10  Week of the Year  481313 non-null  UInt32        \n",
            " 11  Day of Week       481313 non-null  object        \n",
            " 12  Time              481313 non-null  object        \n",
            " 13  Hour              481313 non-null  int64         \n",
            " 14  Time of Day       481313 non-null  category      \n",
            " 15  Sales Revenue     481313 non-null  float64       \n",
            "dtypes: UInt32(1), category(1), datetime64[ns](1), float64(2), int64(2), object(9)\n",
            "memory usage: 54.2+ MB\n"
          ]
        }
      ],
      "source": [
        "df.info()"
      ]
    },
    {
      "cell_type": "code",
      "execution_count": 11,
      "metadata": {
        "colab": {
          "base_uri": "https://localhost:8080/",
          "height": 291
        },
        "id": "towXY_7a6AlE",
        "outputId": "b8c84a00-403f-4d71-ee3a-17867aa148e0"
      },
      "outputs": [
        {
          "data": {
            "text/html": [
              "\n",
              "  <div id=\"df-54150bf1-3399-482f-bc08-f2af25586269\">\n",
              "    <div class=\"colab-df-container\">\n",
              "      <div>\n",
              "<style scoped>\n",
              "    .dataframe tbody tr th:only-of-type {\n",
              "        vertical-align: middle;\n",
              "    }\n",
              "\n",
              "    .dataframe tbody tr th {\n",
              "        vertical-align: top;\n",
              "    }\n",
              "\n",
              "    .dataframe thead th {\n",
              "        text-align: right;\n",
              "    }\n",
              "</style>\n",
              "<table border=\"1\" class=\"dataframe\">\n",
              "  <thead>\n",
              "    <tr style=\"text-align: right;\">\n",
              "      <th></th>\n",
              "      <th>Quantity</th>\n",
              "      <th>UnitPrice</th>\n",
              "      <th>Week of the Year</th>\n",
              "      <th>Hour</th>\n",
              "      <th>Sales Revenue</th>\n",
              "    </tr>\n",
              "  </thead>\n",
              "  <tbody>\n",
              "    <tr>\n",
              "      <th>count</th>\n",
              "      <td>481313.00000</td>\n",
              "      <td>481313.000000</td>\n",
              "      <td>481313.000000</td>\n",
              "      <td>481313.000000</td>\n",
              "      <td>481313.000000</td>\n",
              "    </tr>\n",
              "    <tr>\n",
              "      <th>mean</th>\n",
              "      <td>10.80504</td>\n",
              "      <td>3.252614</td>\n",
              "      <td>29.164677</td>\n",
              "      <td>13.066221</td>\n",
              "      <td>19.693793</td>\n",
              "    </tr>\n",
              "    <tr>\n",
              "      <th>std</th>\n",
              "      <td>162.79915</td>\n",
              "      <td>16.522079</td>\n",
              "      <td>14.743237</td>\n",
              "      <td>2.448566</td>\n",
              "      <td>280.999991</td>\n",
              "    </tr>\n",
              "    <tr>\n",
              "      <th>min</th>\n",
              "      <td>1.00000</td>\n",
              "      <td>0.001000</td>\n",
              "      <td>1.000000</td>\n",
              "      <td>6.000000</td>\n",
              "      <td>0.001000</td>\n",
              "    </tr>\n",
              "    <tr>\n",
              "      <th>25%</th>\n",
              "      <td>1.00000</td>\n",
              "      <td>1.250000</td>\n",
              "      <td>16.000000</td>\n",
              "      <td>11.000000</td>\n",
              "      <td>3.900000</td>\n",
              "    </tr>\n",
              "    <tr>\n",
              "      <th>50%</th>\n",
              "      <td>4.00000</td>\n",
              "      <td>2.080000</td>\n",
              "      <td>31.000000</td>\n",
              "      <td>13.000000</td>\n",
              "      <td>9.950000</td>\n",
              "    </tr>\n",
              "    <tr>\n",
              "      <th>75%</th>\n",
              "      <td>12.00000</td>\n",
              "      <td>4.130000</td>\n",
              "      <td>43.000000</td>\n",
              "      <td>15.000000</td>\n",
              "      <td>17.700000</td>\n",
              "    </tr>\n",
              "    <tr>\n",
              "      <th>max</th>\n",
              "      <td>80995.00000</td>\n",
              "      <td>11062.060000</td>\n",
              "      <td>49.000000</td>\n",
              "      <td>20.000000</td>\n",
              "      <td>168469.600000</td>\n",
              "    </tr>\n",
              "  </tbody>\n",
              "</table>\n",
              "</div>\n",
              "      <button class=\"colab-df-convert\" onclick=\"convertToInteractive('df-54150bf1-3399-482f-bc08-f2af25586269')\"\n",
              "              title=\"Convert this dataframe to an interactive table.\"\n",
              "              style=\"display:none;\">\n",
              "        \n",
              "  <svg xmlns=\"http://www.w3.org/2000/svg\" height=\"24px\"viewBox=\"0 0 24 24\"\n",
              "       width=\"24px\">\n",
              "    <path d=\"M0 0h24v24H0V0z\" fill=\"none\"/>\n",
              "    <path d=\"M18.56 5.44l.94 2.06.94-2.06 2.06-.94-2.06-.94-.94-2.06-.94 2.06-2.06.94zm-11 1L8.5 8.5l.94-2.06 2.06-.94-2.06-.94L8.5 2.5l-.94 2.06-2.06.94zm10 10l.94 2.06.94-2.06 2.06-.94-2.06-.94-.94-2.06-.94 2.06-2.06.94z\"/><path d=\"M17.41 7.96l-1.37-1.37c-.4-.4-.92-.59-1.43-.59-.52 0-1.04.2-1.43.59L10.3 9.45l-7.72 7.72c-.78.78-.78 2.05 0 2.83L4 21.41c.39.39.9.59 1.41.59.51 0 1.02-.2 1.41-.59l7.78-7.78 2.81-2.81c.8-.78.8-2.07 0-2.86zM5.41 20L4 18.59l7.72-7.72 1.47 1.35L5.41 20z\"/>\n",
              "  </svg>\n",
              "      </button>\n",
              "      \n",
              "  <style>\n",
              "    .colab-df-container {\n",
              "      display:flex;\n",
              "      flex-wrap:wrap;\n",
              "      gap: 12px;\n",
              "    }\n",
              "\n",
              "    .colab-df-convert {\n",
              "      background-color: #E8F0FE;\n",
              "      border: none;\n",
              "      border-radius: 50%;\n",
              "      cursor: pointer;\n",
              "      display: none;\n",
              "      fill: #1967D2;\n",
              "      height: 32px;\n",
              "      padding: 0 0 0 0;\n",
              "      width: 32px;\n",
              "    }\n",
              "\n",
              "    .colab-df-convert:hover {\n",
              "      background-color: #E2EBFA;\n",
              "      box-shadow: 0px 1px 2px rgba(60, 64, 67, 0.3), 0px 1px 3px 1px rgba(60, 64, 67, 0.15);\n",
              "      fill: #174EA6;\n",
              "    }\n",
              "\n",
              "    [theme=dark] .colab-df-convert {\n",
              "      background-color: #3B4455;\n",
              "      fill: #D2E3FC;\n",
              "    }\n",
              "\n",
              "    [theme=dark] .colab-df-convert:hover {\n",
              "      background-color: #434B5C;\n",
              "      box-shadow: 0px 1px 3px 1px rgba(0, 0, 0, 0.15);\n",
              "      filter: drop-shadow(0px 1px 2px rgba(0, 0, 0, 0.3));\n",
              "      fill: #FFFFFF;\n",
              "    }\n",
              "  </style>\n",
              "\n",
              "      <script>\n",
              "        const buttonEl =\n",
              "          document.querySelector('#df-54150bf1-3399-482f-bc08-f2af25586269 button.colab-df-convert');\n",
              "        buttonEl.style.display =\n",
              "          google.colab.kernel.accessAllowed ? 'block' : 'none';\n",
              "\n",
              "        async function convertToInteractive(key) {\n",
              "          const element = document.querySelector('#df-54150bf1-3399-482f-bc08-f2af25586269');\n",
              "          const dataTable =\n",
              "            await google.colab.kernel.invokeFunction('convertToInteractive',\n",
              "                                                     [key], {});\n",
              "          if (!dataTable) return;\n",
              "\n",
              "          const docLinkHtml = 'Like what you see? Visit the ' +\n",
              "            '<a target=\"_blank\" href=https://colab.research.google.com/notebooks/data_table.ipynb>data table notebook</a>'\n",
              "            + ' to learn more about interactive tables.';\n",
              "          element.innerHTML = '';\n",
              "          dataTable['output_type'] = 'display_data';\n",
              "          await google.colab.output.renderOutput(dataTable, element);\n",
              "          const docLink = document.createElement('div');\n",
              "          docLink.innerHTML = docLinkHtml;\n",
              "          element.appendChild(docLink);\n",
              "        }\n",
              "      </script>\n",
              "    </div>\n",
              "  </div>\n",
              "  "
            ],
            "text/plain": [
              "           Quantity      UnitPrice  Week of the Year           Hour  \\\n",
              "count  481313.00000  481313.000000     481313.000000  481313.000000   \n",
              "mean       10.80504       3.252614         29.164677      13.066221   \n",
              "std       162.79915      16.522079         14.743237       2.448566   \n",
              "min         1.00000       0.001000          1.000000       6.000000   \n",
              "25%         1.00000       1.250000         16.000000      11.000000   \n",
              "50%         4.00000       2.080000         31.000000      13.000000   \n",
              "75%        12.00000       4.130000         43.000000      15.000000   \n",
              "max     80995.00000   11062.060000         49.000000      20.000000   \n",
              "\n",
              "       Sales Revenue  \n",
              "count  481313.000000  \n",
              "mean       19.693793  \n",
              "std       280.999991  \n",
              "min         0.001000  \n",
              "25%         3.900000  \n",
              "50%         9.950000  \n",
              "75%        17.700000  \n",
              "max    168469.600000  "
            ]
          },
          "execution_count": 11,
          "metadata": {},
          "output_type": "execute_result"
        }
      ],
      "source": [
        "df.describe()"
      ]
    },
    {
      "cell_type": "markdown",
      "metadata": {
        "id": "R6fSoq2j6AlE"
      },
      "source": [
        "At this point, we load the clean data using the function above. We are also going to save the data to our AWS RDS MySQL database for later use in the Streamlit application of this project."
      ]
    },
    {
      "cell_type": "code",
      "execution_count": 12,
      "metadata": {
        "id": "Veu3K19J6AlE"
      },
      "outputs": [],
      "source": [
        "# import mysql.connector as connection\n",
        "# from sqlalchemy import create_engine\n",
        "# import config\n",
        "\n",
        "# host=config.host\n",
        "# user=config.user\n",
        "# password=config.password\n",
        "# port = config.port\n",
        "\n",
        "# conn = connection.connect(\n",
        "#   host=host,\n",
        "#   user=user,\n",
        "#   password=password,\n",
        "#   port = port,\n",
        "# )\n",
        "# mycursor = conn.cursor()\n",
        "\n",
        "# database = config.database\n",
        "\n",
        "# mycursor.execute(f\"CREATE DATABASE IF NOT EXISTS {database}\")\n",
        "\n",
        "# mycursor.execute(\"SHOW DATABASES\")\n",
        "\n",
        "# # create sqlalchemy engine\n",
        "# engine = create_engine(f\"mysql+pymysql://{user}:{password}@{host}/{database}\")\n",
        "# df.to_sql('MBA_Online-Retail_Data', con = engine, if_exists = 'append', index=False)"
      ]
    },
    {
      "cell_type": "code",
      "execution_count": 12,
      "metadata": {
        "id": "UTyjR_vm6AlE"
      },
      "outputs": [],
      "source": []
    },
    {
      "cell_type": "markdown",
      "metadata": {
        "id": "ij0pIkyJ6AlE"
      },
      "source": [
        "### **Exploratory Data Analysis *(EDA)***\n",
        "\n",
        "* Exploratory data analysis is an approach/practice of analyzing data sets to summarize their main characteristics, often using statistical graphics and other ***data visualization***. It is a critical process of performing initial ***investigations to discover*** patterns, detect outliers and anomalies, and gain some new, hidden, insights into the data.\n",
        "\n",
        "* Investigating questions like the total volume of purchases per month, week, day of the week, time of the day right to the hour. We will look at customers more later when we get into the ***Recency, Frequency and Monetary Analysis (RFM)***, ***Cohort analysis***, and the ***Customer Profitability Analysis (CPA)*** sections of the project."
      ]
    },
    {
      "cell_type": "markdown",
      "metadata": {
        "id": "uhSMfVFD6AlF"
      },
      "source": [
        "We are going to create a helper fuction that will group the Quantity and Sales Revenue with respect to either the 'CustomerID', 'Country', 'Date', 'Month','Week of the Year', 'Day of Week', 'Hour', or 'Time of Day'."
      ]
    },
    {
      "cell_type": "code",
      "execution_count": 13,
      "metadata": {
        "id": "c6W7njZk6AlF"
      },
      "outputs": [],
      "source": [
        "def group_Quantity_and_SalesRevenue(df,string):\n",
        "    \"\"\" \n",
        "    This function inputs the main data frame and feature name \n",
        "    The feature name is the column name that you want to group the Quantity and Sales Revenue\n",
        "    \"\"\"\n",
        "\n",
        "    df = df[[f'{string}','Quantity','Sales Revenue']].groupby([f'{string}']).sum().sort_values(by= 'Sales Revenue', ascending = False).reset_index()\n",
        "\n",
        "    return df"
      ]
    },
    {
      "cell_type": "code",
      "execution_count": 14,
      "metadata": {
        "colab": {
          "base_uri": "https://localhost:8080/",
          "height": 716
        },
        "id": "zvQ9ImLL6AlF",
        "outputId": "37e66374-a867-4b15-a191-b17039a10ec2"
      },
      "outputs": [
        {
          "data": {
            "image/png": "[encoded data removed]"
          },
          "metadata": {},
          "output_type": "display_data"
        }
      ],
      "source": [
        "Country_Data = df.groupby(\"Country\")[\"InvoiceNo\"].nunique().sort_values(ascending = False).reset_index().head(10)\n",
        "fig = px.bar(Country_Data, x= \"InvoiceNo\", y='Country', title= \"Top 10 Number of orders per country with the UK\")\n",
        "fig.show(renderer='png', height=700, width=1000)\n",
        "#fig.show( height=700, width=1000)"
      ]
    },
    {
      "cell_type": "markdown",
      "metadata": {
        "id": "dsPEjWne6AlF"
      },
      "source": [
        "UK has more number of orders witk 16k Invoice numbers "
      ]
    },
    {
      "cell_type": "code",
      "execution_count": 15,
      "metadata": {
        "colab": {
          "base_uri": "https://localhost:8080/",
          "height": 716
        },
        "id": "AasUUhCo6AlF",
        "outputId": "0c34f292-b0b1-4533-aaeb-15420c536937"
      },
      "outputs": [
        {
          "data": {
            "image/png": "[encoded data removed]"
          },
          "metadata": {},
          "output_type": "display_data"
        }
      ],
      "source": [
        "Country_Data = df[df['Country'] != \"United Kingdom\"].groupby(\"Country\")[\"InvoiceNo\"].nunique().sort_values(ascending = False).reset_index().head(10)\n",
        "fig = px.bar(Country_Data, x= \"InvoiceNo\", y='Country', title= \"Top 10 Number of orders per country without the UK\")\n",
        "fig.show(renderer='png', height=700, width=1000)\n",
        "#fig.show( height=700, width=1000)"
      ]
    },
    {
      "cell_type": "markdown",
      "metadata": {},
      "source": [
        "The above charts show that the UK by far has more invoices, just as suspected, with invoices surpassing 15K. Germany in in second place, with approximately 30 time less invoices. The retail store management can start possing question of why this is the case, especially when this is a Online retail store. Question like, what is the traffic like to the store web page, or should they start thinking of ***Search Engine Optimization (SEO)***, which is the process of improving the quality and quantity of website traffic to a website or a web page from search engines. Many other questions can be raised from the 2 charts above.\n",
        "\n",
        "We can take a look at how the countries fare up with regards to the ***Quantity sold*** and ***Sales Revenue***.The first plot is going to be for Quantity sold and the second will be for Sales Revenue both for the whole year of 2011."
      ]
    },
    {
      "cell_type": "code",
      "execution_count": null,
      "metadata": {},
      "outputs": [],
      "source": [
        "temp_df = group_Quantity_and_SalesRevenue(df,'Country')\n",
        "\n",
        "fig = px.bar(temp_df, x= \"Quantity\", y='Country', title= \"Quantity of orders per country with the UK\")\n",
        "fig.show(renderer='png', height=700, width=1000)\n",
        "#fig.show( height=700, width=1000)"
      ]
    },
    {
      "cell_type": "code",
      "execution_count": null,
      "metadata": {},
      "outputs": [],
      "source": [
        "temp_df = group_Quantity_and_SalesRevenue(df,'Country')\n",
        "\n",
        "fig = px.bar(temp_df[temp_df['Country'] != \"United Kingdom\"], x= \"Quantity\", y='Country', title= \"Quantity of orders per country without the UK\")\n",
        "fig.show(renderer='png', height=700, width=1000)\n",
        "#fig.show( height=700, width=1000)"
      ]
    },
    {
      "cell_type": "markdown",
      "metadata": {},
      "source": [
        "Just as expected, the UK has high volumes of Quantitly sold and the below charts should show that the UK has high sales as well. However, unlike the number of invoices, the Netherlands has the second highest volume of Quantity sold at approximately 200K. "
      ]
    },
    {
      "cell_type": "markdown",
      "metadata": {
        "id": "Cufzk_oP6AlF"
      },
      "source": [
        "### **Market Basket Analysis**"
      ]
    },
    {
      "cell_type": "code",
      "execution_count": 15,
      "metadata": {
        "id": "O5b5z0QD6AlG"
      },
      "outputs": [],
      "source": []
    },
    {
      "cell_type": "markdown",
      "metadata": {
        "id": "b5ShKSDq6AlG"
      },
      "source": [
        "### **Customer Segmentation**\n",
        "* RFM (recency, frequency, monetary) Analysis\n",
        "* Customer Profitability Analysis (CPA)\n",
        "* Cohort analysis"
      ]
    },
    {
      "cell_type": "code",
      "execution_count": 15,
      "metadata": {
        "id": "pfbI4Z9V6AlG"
      },
      "outputs": [],
      "source": []
    },
    {
      "cell_type": "markdown",
      "metadata": {
        "id": "qQAdAeaa6AlG"
      },
      "source": [
        "### **Product recomendation (people who bought this also bought)**"
      ]
    },
    {
      "cell_type": "code",
      "execution_count": 15,
      "metadata": {
        "id": "KboycTs-6AlG"
      },
      "outputs": [],
      "source": [
        "\n"
      ]
    }
  ],
  "metadata": {
    "colab": {
      "include_colab_link": true,
      "name": "MBA_Online-Retail_Data.ipynb",
      "provenance": []
    },
    "kernelspec": {
      "display_name": "Python 3.9.13 ('m_b_a')",
      "language": "python",
      "name": "python3"
    },
    "language_info": {
      "codemirror_mode": {
        "name": "ipython",
        "version": 3
      },
      "file_extension": ".py",
      "mimetype": "text/x-python",
      "name": "python",
      "nbconvert_exporter": "python",
      "pygments_lexer": "ipython3",
      "version": "3.9.13"
    },
    "orig_nbformat": 4,
    "vscode": {
      "interpreter": {
        "hash": "303f6065bedc79c7a7aa6baa0fcbb09ccdd7ac80962c4f6151d1d17853bf569a"
      }
    }
  },
  "nbformat": 4,
  "nbformat_minor": 0
}
