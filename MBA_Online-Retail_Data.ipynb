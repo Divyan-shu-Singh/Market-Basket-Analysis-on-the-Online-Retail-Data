{
  "cells": [
    {
      "cell_type": "markdown",
      "metadata": {
        "colab_type": "text",
        "id": "view-in-github"
      },
      "source": [
        "<a href=\"https://colab.research.google.com/github/kkrusere/Market-Basket-Analysis-on-the-Online-Retail-Data/blob/main/MBA_Online-Retail_Data.ipynb\" target=\"_parent\"><img src=\"https://colab.research.google.com/assets/colab-badge.svg\" alt=\"Open In Colab\"/></a>"
      ]
    },
    {
      "cell_type": "markdown",
      "metadata": {
        "id": "AFFseKOEhQXP"
      },
      "source": [
        "## <center> **Market Basket Analysis on Online Retail Data** \n",
        "<center><em>Providing a Retail Business with a strategy which helps improve their product sales, inventory management, and customer retention, intern improving the profitability of the business.</em></center>\n",
        "<br>\n",
        "<center><img src=\"https://github.com/kkrusere/Market-Basket-Analysis-on-the-Online-Retail-Data/blob/main/Assets/MBA.jpg?raw=1\" width=600/></center>\n",
        "\n",
        "***Project Contributors:*** Kuzi Rusere<br>"
      ]
    },
    {
      "cell_type": "markdown",
      "metadata": {},
      "source": [
        "### **Project Introduction**"
      ]
    },
    {
      "cell_type": "code",
      "execution_count": null,
      "metadata": {
        "id": "L7B-0FPxhQXS"
      },
      "outputs": [],
      "source": []
    },
    {
      "cell_type": "markdown",
      "metadata": {},
      "source": [
        "### **Data Collection**\n"
      ]
    },
    {
      "cell_type": "code",
      "execution_count": 176,
      "metadata": {},
      "outputs": [],
      "source": [
        "import pandas as pd\n",
        "import numpy as np\n",
        "\n",
        "import plotly.express as px\n",
        "import matplotlib.pyplot as plt\n",
        "from wordcloud import WordCloud\n",
        "\n",
        "import calendar\n",
        "import datetime as dt\n",
        "\n",
        "import re"
      ]
    },
    {
      "cell_type": "code",
      "execution_count": 177,
      "metadata": {},
      "outputs": [],
      "source": [
        "#we are going to import the data into a pandas dataframe \n",
        "def data_loading(path):\n",
        "    \"\"\"\n",
        "    This function reads the Excel data file from UCI Machinelearning repository \n",
        "    The data is stored into a pandas dataframe that the fuction returns  \n",
        "    \"\"\"\n",
        "    df = pd.read_excel(path)\n",
        "    return df\n",
        "\n",
        "data_url = \"https://archive.ics.uci.edu/ml/machine-learning-databases/00352/Online%20Retail.xlsx\"\n",
        "\n",
        "df = data_loading(data_url)"
      ]
    },
    {
      "cell_type": "code",
      "execution_count": 178,
      "metadata": {},
      "outputs": [
        {
          "data": {
            "text/html": [
              "<div>\n",
              "<style scoped>\n",
              "    .dataframe tbody tr th:only-of-type {\n",
              "        vertical-align: middle;\n",
              "    }\n",
              "\n",
              "    .dataframe tbody tr th {\n",
              "        vertical-align: top;\n",
              "    }\n",
              "\n",
              "    .dataframe thead th {\n",
              "        text-align: right;\n",
              "    }\n",
              "</style>\n",
              "<table border=\"1\" class=\"dataframe\">\n",
              "  <thead>\n",
              "    <tr style=\"text-align: right;\">\n",
              "      <th></th>\n",
              "      <th>InvoiceNo</th>\n",
              "      <th>StockCode</th>\n",
              "      <th>Description</th>\n",
              "      <th>Quantity</th>\n",
              "      <th>InvoiceDate</th>\n",
              "      <th>UnitPrice</th>\n",
              "      <th>CustomerID</th>\n",
              "      <th>Country</th>\n",
              "    </tr>\n",
              "  </thead>\n",
              "  <tbody>\n",
              "    <tr>\n",
              "      <th>0</th>\n",
              "      <td>536365</td>\n",
              "      <td>85123A</td>\n",
              "      <td>WHITE HANGING HEART T-LIGHT HOLDER</td>\n",
              "      <td>6</td>\n",
              "      <td>2010-12-01 08:26:00</td>\n",
              "      <td>2.55</td>\n",
              "      <td>17850.0</td>\n",
              "      <td>United Kingdom</td>\n",
              "    </tr>\n",
              "    <tr>\n",
              "      <th>1</th>\n",
              "      <td>536365</td>\n",
              "      <td>71053</td>\n",
              "      <td>WHITE METAL LANTERN</td>\n",
              "      <td>6</td>\n",
              "      <td>2010-12-01 08:26:00</td>\n",
              "      <td>3.39</td>\n",
              "      <td>17850.0</td>\n",
              "      <td>United Kingdom</td>\n",
              "    </tr>\n",
              "    <tr>\n",
              "      <th>2</th>\n",
              "      <td>536365</td>\n",
              "      <td>84406B</td>\n",
              "      <td>CREAM CUPID HEARTS COAT HANGER</td>\n",
              "      <td>8</td>\n",
              "      <td>2010-12-01 08:26:00</td>\n",
              "      <td>2.75</td>\n",
              "      <td>17850.0</td>\n",
              "      <td>United Kingdom</td>\n",
              "    </tr>\n",
              "    <tr>\n",
              "      <th>3</th>\n",
              "      <td>536365</td>\n",
              "      <td>84029G</td>\n",
              "      <td>KNITTED UNION FLAG HOT WATER BOTTLE</td>\n",
              "      <td>6</td>\n",
              "      <td>2010-12-01 08:26:00</td>\n",
              "      <td>3.39</td>\n",
              "      <td>17850.0</td>\n",
              "      <td>United Kingdom</td>\n",
              "    </tr>\n",
              "    <tr>\n",
              "      <th>4</th>\n",
              "      <td>536365</td>\n",
              "      <td>84029E</td>\n",
              "      <td>RED WOOLLY HOTTIE WHITE HEART.</td>\n",
              "      <td>6</td>\n",
              "      <td>2010-12-01 08:26:00</td>\n",
              "      <td>3.39</td>\n",
              "      <td>17850.0</td>\n",
              "      <td>United Kingdom</td>\n",
              "    </tr>\n",
              "  </tbody>\n",
              "</table>\n",
              "</div>"
            ],
            "text/plain": [
              "  InvoiceNo StockCode                          Description  Quantity  \\\n",
              "0    536365    85123A   WHITE HANGING HEART T-LIGHT HOLDER         6   \n",
              "1    536365     71053                  WHITE METAL LANTERN         6   \n",
              "2    536365    84406B       CREAM CUPID HEARTS COAT HANGER         8   \n",
              "3    536365    84029G  KNITTED UNION FLAG HOT WATER BOTTLE         6   \n",
              "4    536365    84029E       RED WOOLLY HOTTIE WHITE HEART.         6   \n",
              "\n",
              "          InvoiceDate  UnitPrice  CustomerID         Country  \n",
              "0 2010-12-01 08:26:00       2.55     17850.0  United Kingdom  \n",
              "1 2010-12-01 08:26:00       3.39     17850.0  United Kingdom  \n",
              "2 2010-12-01 08:26:00       2.75     17850.0  United Kingdom  \n",
              "3 2010-12-01 08:26:00       3.39     17850.0  United Kingdom  \n",
              "4 2010-12-01 08:26:00       3.39     17850.0  United Kingdom  "
            ]
          },
          "execution_count": 178,
          "metadata": {},
          "output_type": "execute_result"
        }
      ],
      "source": [
        "df.head()"
      ]
    },
    {
      "cell_type": "code",
      "execution_count": 180,
      "metadata": {},
      "outputs": [
        {
          "ename": "KeyError",
          "evalue": "0",
          "output_type": "error",
          "traceback": [
            "\u001b[0;31m---------------------------------------------------------------------------\u001b[0m",
            "\u001b[0;31mKeyError\u001b[0m                                  Traceback (most recent call last)",
            "File \u001b[0;32m/opt/homebrew/Caskroom/miniforge/base/envs/m_b_a/lib/python3.9/site-packages/pandas/core/indexes/base.py:3621\u001b[0m, in \u001b[0;36mIndex.get_loc\u001b[0;34m(self, key, method, tolerance)\u001b[0m\n\u001b[1;32m   3620\u001b[0m \u001b[39mtry\u001b[39;00m:\n\u001b[0;32m-> 3621\u001b[0m     \u001b[39mreturn\u001b[39;00m \u001b[39mself\u001b[39;49m\u001b[39m.\u001b[39;49m_engine\u001b[39m.\u001b[39;49mget_loc(casted_key)\n\u001b[1;32m   3622\u001b[0m \u001b[39mexcept\u001b[39;00m \u001b[39mKeyError\u001b[39;00m \u001b[39mas\u001b[39;00m err:\n",
            "File \u001b[0;32m/opt/homebrew/Caskroom/miniforge/base/envs/m_b_a/lib/python3.9/site-packages/pandas/_libs/index.pyx:136\u001b[0m, in \u001b[0;36mpandas._libs.index.IndexEngine.get_loc\u001b[0;34m()\u001b[0m\n",
            "File \u001b[0;32m/opt/homebrew/Caskroom/miniforge/base/envs/m_b_a/lib/python3.9/site-packages/pandas/_libs/index.pyx:163\u001b[0m, in \u001b[0;36mpandas._libs.index.IndexEngine.get_loc\u001b[0;34m()\u001b[0m\n",
            "File \u001b[0;32mpandas/_libs/hashtable_class_helper.pxi:2131\u001b[0m, in \u001b[0;36mpandas._libs.hashtable.Int64HashTable.get_item\u001b[0;34m()\u001b[0m\n",
            "File \u001b[0;32mpandas/_libs/hashtable_class_helper.pxi:2140\u001b[0m, in \u001b[0;36mpandas._libs.hashtable.Int64HashTable.get_item\u001b[0;34m()\u001b[0m\n",
            "\u001b[0;31mKeyError\u001b[0m: 0",
            "\nThe above exception was the direct cause of the following exception:\n",
            "\u001b[0;31mKeyError\u001b[0m                                  Traceback (most recent call last)",
            "\u001b[1;32m/Users/krusere/Desktop/github_repos/Market-Basket-Analysis-on-the-Online-Retail-Data/MBA_Online-Retail_Data.ipynb Cell 9'\u001b[0m in \u001b[0;36m<cell line: 91>\u001b[0;34m()\u001b[0m\n\u001b[1;32m     <a href='vscode-notebook-cell:/Users/krusere/Desktop/github_repos/Market-Basket-Analysis-on-the-Online-Retail-Data/MBA_Online-Retail_Data.ipynb#ch0000021?line=86'>87</a>\u001b[0m     df\u001b[39m.\u001b[39mdrop_duplicates(inplace \u001b[39m=\u001b[39m \u001b[39mTrue\u001b[39;00m)\n\u001b[1;32m     <a href='vscode-notebook-cell:/Users/krusere/Desktop/github_repos/Market-Basket-Analysis-on-the-Online-Retail-Data/MBA_Online-Retail_Data.ipynb#ch0000021?line=88'>89</a>\u001b[0m     \u001b[39mreturn\u001b[39;00m df\n\u001b[0;32m---> <a href='vscode-notebook-cell:/Users/krusere/Desktop/github_repos/Market-Basket-Analysis-on-the-Online-Retail-Data/MBA_Online-Retail_Data.ipynb#ch0000021?line=90'>91</a>\u001b[0m df \u001b[39m=\u001b[39m data_cleaning_and_prep(df)\n",
            "\u001b[1;32m/Users/krusere/Desktop/github_repos/Market-Basket-Analysis-on-the-Online-Retail-Data/MBA_Online-Retail_Data.ipynb Cell 9'\u001b[0m in \u001b[0;36mdata_cleaning_and_prep\u001b[0;34m(df)\u001b[0m\n\u001b[1;32m     <a href='vscode-notebook-cell:/Users/krusere/Desktop/github_repos/Market-Basket-Analysis-on-the-Online-Retail-Data/MBA_Online-Retail_Data.ipynb#ch0000021?line=57'>58</a>\u001b[0m     \u001b[39mif\u001b[39;00m code \u001b[39mnot\u001b[39;00m \u001b[39min\u001b[39;00m the_dict:\n\u001b[1;32m     <a href='vscode-notebook-cell:/Users/krusere/Desktop/github_repos/Market-Basket-Analysis-on-the-Online-Retail-Data/MBA_Online-Retail_Data.ipynb#ch0000021?line=58'>59</a>\u001b[0m         the_dict[code] \u001b[39m=\u001b[39m \u001b[39mlist\u001b[39m()\n\u001b[0;32m---> <a href='vscode-notebook-cell:/Users/krusere/Desktop/github_repos/Market-Basket-Analysis-on-the-Online-Retail-Data/MBA_Online-Retail_Data.ipynb#ch0000021?line=59'>60</a>\u001b[0m     \u001b[39mif\u001b[39;00m df[\u001b[39m\"\u001b[39;49m\u001b[39mDescription\u001b[39;49m\u001b[39m\"\u001b[39;49m][i] \u001b[39mnot\u001b[39;00m \u001b[39min\u001b[39;00m the_dict[code]:\n\u001b[1;32m     <a href='vscode-notebook-cell:/Users/krusere/Desktop/github_repos/Market-Basket-Analysis-on-the-Online-Retail-Data/MBA_Online-Retail_Data.ipynb#ch0000021?line=60'>61</a>\u001b[0m         the_dict[code]\u001b[39m.\u001b[39mappend(df[\u001b[39m\"\u001b[39m\u001b[39mDescription\u001b[39m\u001b[39m\"\u001b[39m][i])\n\u001b[1;32m     <a href='vscode-notebook-cell:/Users/krusere/Desktop/github_repos/Market-Basket-Analysis-on-the-Online-Retail-Data/MBA_Online-Retail_Data.ipynb#ch0000021?line=62'>63</a>\u001b[0m dict_to_look_at \u001b[39m=\u001b[39m \u001b[39mdict\u001b[39m()\n",
            "File \u001b[0;32m/opt/homebrew/Caskroom/miniforge/base/envs/m_b_a/lib/python3.9/site-packages/pandas/core/series.py:958\u001b[0m, in \u001b[0;36mSeries.__getitem__\u001b[0;34m(self, key)\u001b[0m\n\u001b[1;32m    955\u001b[0m     \u001b[39mreturn\u001b[39;00m \u001b[39mself\u001b[39m\u001b[39m.\u001b[39m_values[key]\n\u001b[1;32m    957\u001b[0m \u001b[39melif\u001b[39;00m key_is_scalar:\n\u001b[0;32m--> 958\u001b[0m     \u001b[39mreturn\u001b[39;00m \u001b[39mself\u001b[39;49m\u001b[39m.\u001b[39;49m_get_value(key)\n\u001b[1;32m    960\u001b[0m \u001b[39mif\u001b[39;00m is_hashable(key):\n\u001b[1;32m    961\u001b[0m     \u001b[39m# Otherwise index.get_value will raise InvalidIndexError\u001b[39;00m\n\u001b[1;32m    962\u001b[0m     \u001b[39mtry\u001b[39;00m:\n\u001b[1;32m    963\u001b[0m         \u001b[39m# For labels that don't resolve as scalars like tuples and frozensets\u001b[39;00m\n",
            "File \u001b[0;32m/opt/homebrew/Caskroom/miniforge/base/envs/m_b_a/lib/python3.9/site-packages/pandas/core/series.py:1069\u001b[0m, in \u001b[0;36mSeries._get_value\u001b[0;34m(self, label, takeable)\u001b[0m\n\u001b[1;32m   1066\u001b[0m     \u001b[39mreturn\u001b[39;00m \u001b[39mself\u001b[39m\u001b[39m.\u001b[39m_values[label]\n\u001b[1;32m   1068\u001b[0m \u001b[39m# Similar to Index.get_value, but we do not fall back to positional\u001b[39;00m\n\u001b[0;32m-> 1069\u001b[0m loc \u001b[39m=\u001b[39m \u001b[39mself\u001b[39;49m\u001b[39m.\u001b[39;49mindex\u001b[39m.\u001b[39;49mget_loc(label)\n\u001b[1;32m   1070\u001b[0m \u001b[39mreturn\u001b[39;00m \u001b[39mself\u001b[39m\u001b[39m.\u001b[39mindex\u001b[39m.\u001b[39m_get_values_for_loc(\u001b[39mself\u001b[39m, loc, label)\n",
            "File \u001b[0;32m/opt/homebrew/Caskroom/miniforge/base/envs/m_b_a/lib/python3.9/site-packages/pandas/core/indexes/base.py:3623\u001b[0m, in \u001b[0;36mIndex.get_loc\u001b[0;34m(self, key, method, tolerance)\u001b[0m\n\u001b[1;32m   3621\u001b[0m     \u001b[39mreturn\u001b[39;00m \u001b[39mself\u001b[39m\u001b[39m.\u001b[39m_engine\u001b[39m.\u001b[39mget_loc(casted_key)\n\u001b[1;32m   3622\u001b[0m \u001b[39mexcept\u001b[39;00m \u001b[39mKeyError\u001b[39;00m \u001b[39mas\u001b[39;00m err:\n\u001b[0;32m-> 3623\u001b[0m     \u001b[39mraise\u001b[39;00m \u001b[39mKeyError\u001b[39;00m(key) \u001b[39mfrom\u001b[39;00m \u001b[39merr\u001b[39;00m\n\u001b[1;32m   3624\u001b[0m \u001b[39mexcept\u001b[39;00m \u001b[39mTypeError\u001b[39;00m:\n\u001b[1;32m   3625\u001b[0m     \u001b[39m# If we have a listlike key, _check_indexing_error will raise\u001b[39;00m\n\u001b[1;32m   3626\u001b[0m     \u001b[39m#  InvalidIndexError. Otherwise we fall through and re-raise\u001b[39;00m\n\u001b[1;32m   3627\u001b[0m     \u001b[39m#  the TypeError.\u001b[39;00m\n\u001b[1;32m   3628\u001b[0m     \u001b[39mself\u001b[39m\u001b[39m.\u001b[39m_check_indexing_error(key)\n",
            "\u001b[0;31mKeyError\u001b[0m: 0"
          ]
        }
      ],
      "source": [
        "def data_cleaning_and_prep(df):\n",
        "    \"\"\"  \n",
        "    This is the Data Cleaning and Preperation Function\n",
        "    It takes in a dataframe, does the data cleaning and prep and returns dataframe\n",
        "    \"\"\"\n",
        "    ######*****CustomerID column******###########\n",
        "    #replacing the nan with 'Guest Customer' so that we can convert to int to remove the decimal point\n",
        "    df[\"CustomerID\"] = df[\"CustomerID\"].fillna(\"Guest Customer\")\n",
        "\n",
        "    ######*****InvoiceDate column******###########\n",
        "    df['Date'] = df['InvoiceDate'].dt.date\n",
        "    df['Month'] = df['InvoiceDate'].dt.month\n",
        "    df['Year'] = df['InvoiceDate'].dt.year\n",
        "    #we change the number month to the actual name of the month \n",
        "    df['Month'] = df['Month'].apply(lambda x: calendar.month_name[int(x)])\n",
        "    df['Week of the Year'] = df['InvoiceDate'].dt.isocalendar().week\n",
        "    #we will add the day of the week to the dataframe \n",
        "    df['Day of Week'] = df['InvoiceDate'].dt.day_name()\n",
        "    df['Time'] = df['InvoiceDate'].dt.time\n",
        "    df[\"Hour\"] = df['InvoiceDate'].dt.hour\n",
        "    df['Time of Day']=pd.cut(df['InvoiceDate'].dt.hour,[0,6,12,18,23],labels=['Night','Morning','Afternoon','Evening'],include_lowest=True)\n",
        "    #lastly here, we will drop the row from the year 2010\n",
        "    index_names = df[df['Year'] == 2010].index\n",
        "    df.drop(index_names, inplace = True)\n",
        "    df.drop('Year', axis=1, inplace=True)\n",
        "\n",
        "    ######*****InvoiceNo column******#############\n",
        "    #now we drop the row with cancelled orders\n",
        "    df['InvoiceNo'] = df['InvoiceNo'].dropna()\n",
        "\n",
        "    #####*****Sales Revenue column******##########\n",
        "    #we'll create a column called 'Sales Revenue' = 'Quantity' multiplied by 'UnitPrice'\n",
        "    df['Sales Revenue'] = df['UnitPrice'] * df['Quantity']\n",
        "\n",
        "    #####*****Country column******##########\n",
        "    #we are going to drop the rows that have \"Unspecified\" country\n",
        "    df.drop(df[df[\"Country\"] == \"Unspecified\"].index, inplace = True)\n",
        "\n",
        "    ######*****Description column******###########\n",
        "    #dropping the nan from the Description column\n",
        "    df.dropna(subset = ['Description'], inplace= True)\n",
        "    #removing the descriptions with lenth less than or equal to 8 characters\n",
        "    df.drop(df[df.Description.str.len() <= 8].index, inplace=True)\n",
        "    #we are going to drop this special case row with description '20713' at index '417090'\n",
        "    df.drop(df.index[417090], inplace=True)\n",
        "    #the description to lower case\n",
        "    df.Description = df.Description.str.lower()\n",
        "    #we are also going to remove the row that have description value \"dotcom postage\"\n",
        "    index_names = df[ df['Description'] == \"dotcom postage\" ].index\n",
        "    # drop these row indexes\n",
        "    # from dataFrame\n",
        "    df.Description = df.Description.str.upper()\n",
        "    df[\"Description\"] = df[\"Description\"].str.strip()\n",
        "    df.drop(index_names, inplace = True)\n",
        "\n",
        "    the_dict = dict()\n",
        "    for i, code in enumerate(df[\"StockCode\"]):\n",
        "        if code not in the_dict:\n",
        "            the_dict[code] = list()\n",
        "        if df[\"Description\"][i] not in the_dict[code]:\n",
        "            the_dict[code].append(df[\"Description\"][i])\n",
        "\n",
        "    dict_to_look_at = dict()\n",
        "    for key in the_dict:\n",
        "        if len(the_dict[key]) > 1:\n",
        "            dict_to_look_at[key] = the_dict[key]\n",
        "\n",
        "    key_list = list(dict_to_look_at.keys())\n",
        "    for key_l in key_list:\n",
        "        x = dict_to_look_at[key_l]\n",
        "        max_len = 0\n",
        "        index = 0\n",
        "        for i in range(len(x)):\n",
        "            if len((x[i]).split()) >= max_len:\n",
        "                max_len = len((x[i]).split())\n",
        "                index = i\n",
        "        dict_to_look_at[key_l] = x[index]\n",
        "\n",
        "    for key in dict_to_look_at:\n",
        "        df.loc[df[\"StockCode\"] == key, \"Description\"] = dict_to_look_at[key]\n",
        "\n",
        "    ###lastly, drop row were the quantity and sales revenue that is less than 0 and drop duplicated rows if any\n",
        "    index_names = df[df['Quantity'] <= 0].index\n",
        "    df.drop(index_names, inplace = True)\n",
        "    index_names = df[df['Sales Revenue'] <= 0].index\n",
        "    df.drop(index_names, inplace = True)\n",
        "    df.drop_duplicates(inplace = True)\n",
        "\n",
        "    return df\n",
        "\n",
        "df = data_cleaning_and_prep(df)"
      ]
    },
    {
      "cell_type": "code",
      "execution_count": null,
      "metadata": {},
      "outputs": [
        {
          "data": {
            "text/plain": [
              "(481314, 16)"
            ]
          },
          "execution_count": 151,
          "metadata": {},
          "output_type": "execute_result"
        }
      ],
      "source": [
        "df.shape"
      ]
    },
    {
      "cell_type": "code",
      "execution_count": null,
      "metadata": {},
      "outputs": [
        {
          "data": {
            "text/html": [
              "<div>\n",
              "<style scoped>\n",
              "    .dataframe tbody tr th:only-of-type {\n",
              "        vertical-align: middle;\n",
              "    }\n",
              "\n",
              "    .dataframe tbody tr th {\n",
              "        vertical-align: top;\n",
              "    }\n",
              "\n",
              "    .dataframe thead th {\n",
              "        text-align: right;\n",
              "    }\n",
              "</style>\n",
              "<table border=\"1\" class=\"dataframe\">\n",
              "  <thead>\n",
              "    <tr style=\"text-align: right;\">\n",
              "      <th></th>\n",
              "      <th>InvoiceNo</th>\n",
              "      <th>StockCode</th>\n",
              "      <th>Description</th>\n",
              "      <th>Quantity</th>\n",
              "      <th>InvoiceDate</th>\n",
              "      <th>UnitPrice</th>\n",
              "      <th>CustomerID</th>\n",
              "      <th>Country</th>\n",
              "      <th>Date</th>\n",
              "      <th>Month</th>\n",
              "      <th>Week of the Year</th>\n",
              "      <th>Day of Week</th>\n",
              "      <th>Time</th>\n",
              "      <th>Hour</th>\n",
              "      <th>Time of Day</th>\n",
              "      <th>Sales Revenue</th>\n",
              "    </tr>\n",
              "  </thead>\n",
              "  <tbody>\n",
              "    <tr>\n",
              "      <th>0</th>\n",
              "      <td>539993</td>\n",
              "      <td>22386</td>\n",
              "      <td>JUMBO BAG PINK POLKADOT</td>\n",
              "      <td>10</td>\n",
              "      <td>2011-01-04 10:00:00</td>\n",
              "      <td>1.95</td>\n",
              "      <td>13313.0</td>\n",
              "      <td>United Kingdom</td>\n",
              "      <td>2011-01-04</td>\n",
              "      <td>January</td>\n",
              "      <td>1</td>\n",
              "      <td>Tuesday</td>\n",
              "      <td>10:00:00</td>\n",
              "      <td>10</td>\n",
              "      <td>Morning</td>\n",
              "      <td>19.5</td>\n",
              "    </tr>\n",
              "    <tr>\n",
              "      <th>1</th>\n",
              "      <td>539993</td>\n",
              "      <td>21499</td>\n",
              "      <td>BLUE POLKADOT WRAP</td>\n",
              "      <td>25</td>\n",
              "      <td>2011-01-04 10:00:00</td>\n",
              "      <td>0.42</td>\n",
              "      <td>13313.0</td>\n",
              "      <td>United Kingdom</td>\n",
              "      <td>2011-01-04</td>\n",
              "      <td>January</td>\n",
              "      <td>1</td>\n",
              "      <td>Tuesday</td>\n",
              "      <td>10:00:00</td>\n",
              "      <td>10</td>\n",
              "      <td>Morning</td>\n",
              "      <td>10.5</td>\n",
              "    </tr>\n",
              "    <tr>\n",
              "      <th>2</th>\n",
              "      <td>539993</td>\n",
              "      <td>21498</td>\n",
              "      <td>RED RETROSPOT WRAP</td>\n",
              "      <td>25</td>\n",
              "      <td>2011-01-04 10:00:00</td>\n",
              "      <td>0.42</td>\n",
              "      <td>13313.0</td>\n",
              "      <td>United Kingdom</td>\n",
              "      <td>2011-01-04</td>\n",
              "      <td>January</td>\n",
              "      <td>1</td>\n",
              "      <td>Tuesday</td>\n",
              "      <td>10:00:00</td>\n",
              "      <td>10</td>\n",
              "      <td>Morning</td>\n",
              "      <td>10.5</td>\n",
              "    </tr>\n",
              "    <tr>\n",
              "      <th>3</th>\n",
              "      <td>539993</td>\n",
              "      <td>22379</td>\n",
              "      <td>RECYCLING BAG RETROSPOT</td>\n",
              "      <td>5</td>\n",
              "      <td>2011-01-04 10:00:00</td>\n",
              "      <td>2.10</td>\n",
              "      <td>13313.0</td>\n",
              "      <td>United Kingdom</td>\n",
              "      <td>2011-01-04</td>\n",
              "      <td>January</td>\n",
              "      <td>1</td>\n",
              "      <td>Tuesday</td>\n",
              "      <td>10:00:00</td>\n",
              "      <td>10</td>\n",
              "      <td>Morning</td>\n",
              "      <td>10.5</td>\n",
              "    </tr>\n",
              "    <tr>\n",
              "      <th>4</th>\n",
              "      <td>539993</td>\n",
              "      <td>20718</td>\n",
              "      <td>RED RETROSPOT SHOPPER BAG</td>\n",
              "      <td>10</td>\n",
              "      <td>2011-01-04 10:00:00</td>\n",
              "      <td>1.25</td>\n",
              "      <td>13313.0</td>\n",
              "      <td>United Kingdom</td>\n",
              "      <td>2011-01-04</td>\n",
              "      <td>January</td>\n",
              "      <td>1</td>\n",
              "      <td>Tuesday</td>\n",
              "      <td>10:00:00</td>\n",
              "      <td>10</td>\n",
              "      <td>Morning</td>\n",
              "      <td>12.5</td>\n",
              "    </tr>\n",
              "  </tbody>\n",
              "</table>\n",
              "</div>"
            ],
            "text/plain": [
              "  InvoiceNo StockCode                Description  Quantity  \\\n",
              "0    539993     22386    JUMBO BAG PINK POLKADOT        10   \n",
              "1    539993     21499         BLUE POLKADOT WRAP        25   \n",
              "2    539993     21498         RED RETROSPOT WRAP        25   \n",
              "3    539993     22379    RECYCLING BAG RETROSPOT         5   \n",
              "4    539993     20718  RED RETROSPOT SHOPPER BAG        10   \n",
              "\n",
              "          InvoiceDate  UnitPrice CustomerID         Country        Date  \\\n",
              "0 2011-01-04 10:00:00       1.95    13313.0  United Kingdom  2011-01-04   \n",
              "1 2011-01-04 10:00:00       0.42    13313.0  United Kingdom  2011-01-04   \n",
              "2 2011-01-04 10:00:00       0.42    13313.0  United Kingdom  2011-01-04   \n",
              "3 2011-01-04 10:00:00       2.10    13313.0  United Kingdom  2011-01-04   \n",
              "4 2011-01-04 10:00:00       1.25    13313.0  United Kingdom  2011-01-04   \n",
              "\n",
              "     Month  Week of the Year Day of Week      Time  Hour Time of Day  \\\n",
              "0  January                 1     Tuesday  10:00:00    10     Morning   \n",
              "1  January                 1     Tuesday  10:00:00    10     Morning   \n",
              "2  January                 1     Tuesday  10:00:00    10     Morning   \n",
              "3  January                 1     Tuesday  10:00:00    10     Morning   \n",
              "4  January                 1     Tuesday  10:00:00    10     Morning   \n",
              "\n",
              "   Sales Revenue  \n",
              "0           19.5  \n",
              "1           10.5  \n",
              "2           10.5  \n",
              "3           10.5  \n",
              "4           12.5  "
            ]
          },
          "execution_count": 154,
          "metadata": {},
          "output_type": "execute_result"
        }
      ],
      "source": [
        "df.head()"
      ]
    },
    {
      "cell_type": "code",
      "execution_count": 155,
      "metadata": {},
      "outputs": [],
      "source": [
        "df.reset_index(drop=True,inplace=True)"
      ]
    },
    {
      "cell_type": "code",
      "execution_count": 173,
      "metadata": {},
      "outputs": [],
      "source": [
        "\n"
      ]
    },
    {
      "cell_type": "code",
      "execution_count": 174,
      "metadata": {},
      "outputs": [],
      "source": []
    },
    {
      "cell_type": "code",
      "execution_count": 171,
      "metadata": {},
      "outputs": [],
      "source": [
        "\n"
      ]
    },
    {
      "cell_type": "code",
      "execution_count": 172,
      "metadata": {},
      "outputs": [],
      "source": []
    },
    {
      "cell_type": "markdown",
      "metadata": {},
      "source": [
        "### **Data Cleaning and Preparation**"
      ]
    },
    {
      "cell_type": "markdown",
      "metadata": {},
      "source": [
        "### **Exploratory Data Analysis**\n"
      ]
    },
    {
      "cell_type": "code",
      "execution_count": null,
      "metadata": {},
      "outputs": [],
      "source": []
    }
  ],
  "metadata": {
    "colab": {
      "include_colab_link": true,
      "name": "MBA_Online-Retail_Data.ipynb",
      "provenance": []
    },
    "kernelspec": {
      "display_name": "Python 3.9.13 ('m_b_a')",
      "language": "python",
      "name": "python3"
    },
    "language_info": {
      "codemirror_mode": {
        "name": "ipython",
        "version": 3
      },
      "file_extension": ".py",
      "mimetype": "text/x-python",
      "name": "python",
      "nbconvert_exporter": "python",
      "pygments_lexer": "ipython3",
      "version": "3.9.13"
    },
    "orig_nbformat": 4,
    "vscode": {
      "interpreter": {
        "hash": "303f6065bedc79c7a7aa6baa0fcbb09ccdd7ac80962c4f6151d1d17853bf569a"
      }
    }
  },
  "nbformat": 4,
  "nbformat_minor": 0
}
