{
  "cells": [
    {
      "cell_type": "markdown",
      "metadata": {
        "colab_type": "text",
        "id": "view-in-github"
      },
      "source": [
        "<a href=\"https://colab.research.google.com/github/kkrusere/Market-Basket-Analysis-on-the-Online-Retail-Data/blob/main/MBA_Online-Retail_Data.ipynb\" target=\"_parent\"><img src=\"https://colab.research.google.com/assets/colab-badge.svg\" alt=\"Open In Colab\"/></a>"
      ]
    },
    {
      "cell_type": "markdown",
      "metadata": {
        "id": "AFFseKOEhQXP"
      },
      "source": [
        "## <center> **Market Basket Analysis on Online Retail Data** \n",
        "<center><em>Providing a Retail Business with a strategy which helps improve their product sales, inventory management, and customer retention, which in turn would improve the profitability of the business.</em></center>\n",
        "<br>\n",
        "<center><img src=\"https://github.com/kkrusere/Market-Basket-Analysis-on-the-Online-Retail-Data/blob/main/Assets/MBA.jpg?raw=1\" width=600/></center>\n",
        "\n",
        "***Project Contributors:*** Kuzi Rusere<br>"
      ]
    },
    {
      "cell_type": "markdown",
      "metadata": {},
      "source": [
        "### **Project Introduction**"
      ]
    },
    {
      "cell_type": "code",
      "execution_count": null,
      "metadata": {
        "id": "L7B-0FPxhQXS"
      },
      "outputs": [],
      "source": []
    },
    {
      "cell_type": "markdown",
      "metadata": {},
      "source": [
        "### **Data Collection**\n"
      ]
    },
    {
      "cell_type": "code",
      "execution_count": 1,
      "metadata": {},
      "outputs": [],
      "source": [
        "import pandas as pd\n",
        "import numpy as np\n",
        "\n",
        "import plotly.express as px\n",
        "import matplotlib.pyplot as plt\n",
        "from wordcloud import WordCloud\n",
        "\n",
        "import calendar\n",
        "import datetime as dt\n",
        "\n",
        "import re"
      ]
    },
    {
      "cell_type": "code",
      "execution_count": 2,
      "metadata": {},
      "outputs": [],
      "source": [
        "#we are going to import the data into a pandas dataframe \n",
        "def data_loading(path):\n",
        "    \"\"\"\n",
        "    This function reads the Excel data file from UCI Machinelearning repository \n",
        "    The data is stored into a pandas dataframe that the fuction returns  \n",
        "    \"\"\"\n",
        "    df = pd.read_excel(path)\n",
        "    return df\n",
        "\n",
        "data_url = \"https://archive.ics.uci.edu/ml/machine-learning-databases/00352/Online%20Retail.xlsx\"\n",
        "\n",
        "df = data_loading(data_url)"
      ]
    },
    {
      "cell_type": "markdown",
      "metadata": {},
      "source": [
        "**General Information About the Data** <br>\n",
        "This is a transnational data set which contains all the transactions occurring between 01/12/2010 and 09/12/2011 for a UK-based and registered non-store online retail. The company mainly sells unique all-occasion gifts. Many customers of the company are wholesalers. <br>\n",
        "\n",
        "**Information about the Attributes/Columns in the Dataset** <br>\n",
        "\n",
        "***InvoiceNo:*** Invoice number. Nominal, a 6-digit integral number uniquely assigned to each transaction. If this code starts with letter 'c', it indicates a cancellation. <br>\n",
        "\n",
        "***StockCode:*** Product (item) code. Nominal, a 5-digit integral number uniquely assigned to each distinct product. <br>\n",
        "\n",
        "***Description:*** Product (item) name. Nominal. <br>\n",
        "\n",
        "***Quantity:*** The quantities of each product (item) per transaction. Numeric.<br>\n",
        "\n",
        "***InvoiceDate:*** Invice Date and time. Numeric, the day and time when each transaction was generated. <br>\n",
        "\n",
        "***UnitPrice:*** Unit price. Numeric, Product price per unit in sterling.<br>\n",
        "\n",
        "***CustomerID:*** Customer number. Nominal, a 5-digit integral number uniquely assigned to each customer. <br>\n",
        "\n",
        "***Country:*** Country name. Nominal, the name of the country where each customer resides. <br>"
      ]
    },
    {
      "cell_type": "code",
      "execution_count": 3,
      "metadata": {},
      "outputs": [
        {
          "data": {
            "text/html": [
              "<div>\n",
              "<style scoped>\n",
              "    .dataframe tbody tr th:only-of-type {\n",
              "        vertical-align: middle;\n",
              "    }\n",
              "\n",
              "    .dataframe tbody tr th {\n",
              "        vertical-align: top;\n",
              "    }\n",
              "\n",
              "    .dataframe thead th {\n",
              "        text-align: right;\n",
              "    }\n",
              "</style>\n",
              "<table border=\"1\" class=\"dataframe\">\n",
              "  <thead>\n",
              "    <tr style=\"text-align: right;\">\n",
              "      <th></th>\n",
              "      <th>InvoiceNo</th>\n",
              "      <th>StockCode</th>\n",
              "      <th>Description</th>\n",
              "      <th>Quantity</th>\n",
              "      <th>InvoiceDate</th>\n",
              "      <th>UnitPrice</th>\n",
              "      <th>CustomerID</th>\n",
              "      <th>Country</th>\n",
              "    </tr>\n",
              "  </thead>\n",
              "  <tbody>\n",
              "    <tr>\n",
              "      <th>0</th>\n",
              "      <td>536365</td>\n",
              "      <td>85123A</td>\n",
              "      <td>WHITE HANGING HEART T-LIGHT HOLDER</td>\n",
              "      <td>6</td>\n",
              "      <td>2010-12-01 08:26:00</td>\n",
              "      <td>2.55</td>\n",
              "      <td>17850.0</td>\n",
              "      <td>United Kingdom</td>\n",
              "    </tr>\n",
              "    <tr>\n",
              "      <th>1</th>\n",
              "      <td>536365</td>\n",
              "      <td>71053</td>\n",
              "      <td>WHITE METAL LANTERN</td>\n",
              "      <td>6</td>\n",
              "      <td>2010-12-01 08:26:00</td>\n",
              "      <td>3.39</td>\n",
              "      <td>17850.0</td>\n",
              "      <td>United Kingdom</td>\n",
              "    </tr>\n",
              "    <tr>\n",
              "      <th>2</th>\n",
              "      <td>536365</td>\n",
              "      <td>84406B</td>\n",
              "      <td>CREAM CUPID HEARTS COAT HANGER</td>\n",
              "      <td>8</td>\n",
              "      <td>2010-12-01 08:26:00</td>\n",
              "      <td>2.75</td>\n",
              "      <td>17850.0</td>\n",
              "      <td>United Kingdom</td>\n",
              "    </tr>\n",
              "    <tr>\n",
              "      <th>3</th>\n",
              "      <td>536365</td>\n",
              "      <td>84029G</td>\n",
              "      <td>KNITTED UNION FLAG HOT WATER BOTTLE</td>\n",
              "      <td>6</td>\n",
              "      <td>2010-12-01 08:26:00</td>\n",
              "      <td>3.39</td>\n",
              "      <td>17850.0</td>\n",
              "      <td>United Kingdom</td>\n",
              "    </tr>\n",
              "    <tr>\n",
              "      <th>4</th>\n",
              "      <td>536365</td>\n",
              "      <td>84029E</td>\n",
              "      <td>RED WOOLLY HOTTIE WHITE HEART.</td>\n",
              "      <td>6</td>\n",
              "      <td>2010-12-01 08:26:00</td>\n",
              "      <td>3.39</td>\n",
              "      <td>17850.0</td>\n",
              "      <td>United Kingdom</td>\n",
              "    </tr>\n",
              "  </tbody>\n",
              "</table>\n",
              "</div>"
            ],
            "text/plain": [
              "  InvoiceNo StockCode                          Description  Quantity  \\\n",
              "0    536365    85123A   WHITE HANGING HEART T-LIGHT HOLDER         6   \n",
              "1    536365     71053                  WHITE METAL LANTERN         6   \n",
              "2    536365    84406B       CREAM CUPID HEARTS COAT HANGER         8   \n",
              "3    536365    84029G  KNITTED UNION FLAG HOT WATER BOTTLE         6   \n",
              "4    536365    84029E       RED WOOLLY HOTTIE WHITE HEART.         6   \n",
              "\n",
              "          InvoiceDate  UnitPrice  CustomerID         Country  \n",
              "0 2010-12-01 08:26:00       2.55     17850.0  United Kingdom  \n",
              "1 2010-12-01 08:26:00       3.39     17850.0  United Kingdom  \n",
              "2 2010-12-01 08:26:00       2.75     17850.0  United Kingdom  \n",
              "3 2010-12-01 08:26:00       3.39     17850.0  United Kingdom  \n",
              "4 2010-12-01 08:26:00       3.39     17850.0  United Kingdom  "
            ]
          },
          "execution_count": 3,
          "metadata": {},
          "output_type": "execute_result"
        }
      ],
      "source": [
        "df.head()"
      ]
    },
    {
      "cell_type": "markdown",
      "metadata": {},
      "source": [
        "We are going to use the pandas '.shape' function/method to the total number of columns and rows of the dataframe. We can see that our dataframe contains 541909 rows and 8 columns"
      ]
    },
    {
      "cell_type": "code",
      "execution_count": 4,
      "metadata": {},
      "outputs": [
        {
          "data": {
            "text/plain": [
              "(541909, 8)"
            ]
          },
          "execution_count": 4,
          "metadata": {},
          "output_type": "execute_result"
        }
      ],
      "source": [
        "df.shape"
      ]
    },
    {
      "cell_type": "markdown",
      "metadata": {},
      "source": [
        "We'll use the pandas '.info()' function so see the general infomation (data types, null value count, etc.) about the data."
      ]
    },
    {
      "cell_type": "code",
      "execution_count": 5,
      "metadata": {},
      "outputs": [
        {
          "name": "stdout",
          "output_type": "stream",
          "text": [
            "<class 'pandas.core.frame.DataFrame'>\n",
            "RangeIndex: 541909 entries, 0 to 541908\n",
            "Data columns (total 8 columns):\n",
            " #   Column       Non-Null Count   Dtype         \n",
            "---  ------       --------------   -----         \n",
            " 0   InvoiceNo    541909 non-null  object        \n",
            " 1   StockCode    541909 non-null  object        \n",
            " 2   Description  540455 non-null  object        \n",
            " 3   Quantity     541909 non-null  int64         \n",
            " 4   InvoiceDate  541909 non-null  datetime64[ns]\n",
            " 5   UnitPrice    541909 non-null  float64       \n",
            " 6   CustomerID   406829 non-null  float64       \n",
            " 7   Country      541909 non-null  object        \n",
            "dtypes: datetime64[ns](1), float64(2), int64(1), object(4)\n",
            "memory usage: 33.1+ MB\n"
          ]
        }
      ],
      "source": [
        "df.info()"
      ]
    },
    {
      "cell_type": "markdown",
      "metadata": {},
      "source": [
        "From the above we can see that the Description and CustomerID columns have null values, and that the CustomerID has data type float64. \n",
        "> * We are going to convert the CustomerID datatype to 'string' and ***Consider*** the null values in this columns ***Guest Customer*** implying that they are customers that do not have Customer IDs.<br> <br>\n",
        "> * For the null values in the Description column, we are also going to delete the rows, since we do not have any use of them in this particular project."
      ]
    },
    {
      "cell_type": "markdown",
      "metadata": {},
      "source": [
        "### **Data Cleaning and Preparation**"
      ]
    },
    {
      "cell_type": "markdown",
      "metadata": {},
      "source": [
        "We are going to create a function that will encompass all the cleaning and manipulation/modifications that we are going to do to the data.\n",
        "\n",
        "**What we are going to do to the data frame:**<br>\n",
        "* Changing the CustomerID to dtype 'object' and replace the null values to 'Guest Customer'.<br><br>\n",
        "* Remove the rows that have null values from the Description column. we are also going to remove rows that have a product description that has a length less than or equal to 6 characters, this is because the description is not actually products (well from our understanding). Below is a sample of some of these descriptions \n",
        "> ['wet?','Damaged','Missing','Discount','lost','MIA','SAMPLES','Display','mailout ','?','missing?','broken','lost??','CARRIAGE','mouldy','smashed']\n",
        "* Cancelled orders will be removed, since as per the info about the attributes/columns of our dataset, for the 'InvoiceNo' the entries that contain a 'c' is a canceled orders.<br><br>\n",
        "* We are going to remove the data entries from 2010 and then split the 'Invoice Date' column into just Date (without the time), Time, Month, Day, Week, Day of the Week, Hour, Time of Day (which is either Morning, Afternoon or Evening). We are going to need these to dissect the transactions at different periods.<br><br>\n",
        "* We are also going to remove and consolidate duplicated entries in the product description that have the same `stockcode`\n",
        "* A 'Sales Revenue' column will be created by multiplying the 'Quantity' and 'UnitPrice' columns. This will give the monetary value of each data entry.\n"
      ]
    },
    {
      "cell_type": "code",
      "execution_count": 6,
      "metadata": {},
      "outputs": [],
      "source": [
        "def data_cleaning_and_prep(df):\n",
        "    \"\"\"  \n",
        "    This is the Data Cleaning and Preperation Function\n",
        "    It takes in a dataframe, does the data cleaning and prep and returns dataframe\n",
        "    \"\"\"\n",
        "    ######*****CustomerID column******###########\n",
        "    #replacing the nan with 'Guest Customer' so that we can convert to int to remove the decimal point\n",
        "    df[\"CustomerID\"] = df[\"CustomerID\"].fillna(\"Guest Customer\")\n",
        "\n",
        "    ######*****InvoiceDate column******###########\n",
        "    df['Date'] = df['InvoiceDate'].dt.date\n",
        "    df['Month'] = df['InvoiceDate'].dt.month\n",
        "    df['Year'] = df['InvoiceDate'].dt.year\n",
        "    #we change the number month to the actual name of the month \n",
        "    df['Month'] = df['Month'].apply(lambda x: calendar.month_name[int(x)])\n",
        "    df['Week of the Year'] = df['InvoiceDate'].dt.isocalendar().week\n",
        "    #we will add the day of the week to the dataframe \n",
        "    df['Day of Week'] = df['InvoiceDate'].dt.day_name()\n",
        "    df['Time'] = df['InvoiceDate'].dt.time\n",
        "    df[\"Hour\"] = df['InvoiceDate'].dt.hour\n",
        "    df['Time of Day']=pd.cut(df['InvoiceDate'].dt.hour,[0,6,12,18,23],labels=['Night','Morning','Afternoon','Evening'],include_lowest=True)\n",
        "    #lastly here, we will drop the row from the year 2010\n",
        "    index_names = df[df['Year'] == 2010].index\n",
        "    df.drop(index_names, inplace = True)\n",
        "    df.drop('Year', axis=1, inplace=True)\n",
        "\n",
        "    ######*****InvoiceNo column******#############\n",
        "    #now we drop the row with cancelled orders\n",
        "    df['InvoiceNo'] = df['InvoiceNo'].dropna()\n",
        "\n",
        "    #####*****Sales Revenue column******##########\n",
        "    #we'll create a column called 'Sales Revenue' = 'Quantity' multiplied by 'UnitPrice'\n",
        "    df['Sales Revenue'] = df['UnitPrice'] * df['Quantity']\n",
        "\n",
        "    #####*****Country column******##########\n",
        "    #we are going to drop the rows that have \"Unspecified\" country\n",
        "    df.drop(df[df[\"Country\"] == \"Unspecified\"].index, inplace = True)\n",
        "\n",
        "    ###drop row were the quantity and sales revenue that is less than 0 and drop duplicated rows if any\n",
        "    index_names = df[df['Quantity'] <= 0].index\n",
        "    df.drop(index_names, inplace = True)\n",
        "    index_names = df[df['Sales Revenue'] <= 0].index\n",
        "    df.drop(index_names, inplace = True)\n",
        "    df.drop_duplicates(inplace = True)\n",
        "\n",
        "    ######*****Description column******###########\n",
        "    #dropping the nan from the Description column\n",
        "    df.dropna(subset = ['Description'], inplace= True)\n",
        "    #removing the descriptions with lenth less than or equal to 8 characters\n",
        "    df.drop(df[df.Description.str.len() <= 8].index, inplace=True)\n",
        "    #we are going to drop this special case row with description '20713' at index '417090'\n",
        "    df.drop(df.index[417090], inplace=True)\n",
        "    #the description to lower case\n",
        "    df.Description = df.Description.str.lower()\n",
        "    #we are also going to remove the row that have description value \"dotcom postage\"\n",
        "    index_names = df[ df['Description'] == \"dotcom postage\" ].index\n",
        "    # drop these row indexes\n",
        "    # from dataFrame\n",
        "    df.Description = df.Description.str.upper()\n",
        "    df[\"Description\"] = df[\"Description\"].str.strip()\n",
        "    df.drop(index_names, inplace = True)\n",
        "    #getting rid of the duplicated product discription\n",
        "    the_dict = dict()\n",
        "    df.reset_index(drop=True, inplace=True)\n",
        "    for i, code in enumerate(df[\"StockCode\"]):\n",
        "        if code not in the_dict:\n",
        "            the_dict[code] = list()\n",
        "        if df[\"Description\"][i] not in the_dict[code]:\n",
        "            the_dict[code].append(df[\"Description\"][i])\n",
        "\n",
        "    dict_to_look_at = dict()\n",
        "    for key in the_dict:\n",
        "        if len(the_dict[key]) > 1:\n",
        "            dict_to_look_at[key] = the_dict[key]\n",
        "\n",
        "    key_list = list(dict_to_look_at.keys())\n",
        "    for key_l in key_list:\n",
        "        x = dict_to_look_at[key_l]\n",
        "        max_len = 0\n",
        "        index = 0\n",
        "        for i in range(len(x)):\n",
        "            if len((x[i]).split()) >= max_len:\n",
        "                max_len = len((x[i]).split())\n",
        "                index = i\n",
        "        dict_to_look_at[key_l] = x[index]\n",
        "\n",
        "    for key in dict_to_look_at:\n",
        "        df.loc[df[\"StockCode\"] == key, \"Description\"] = dict_to_look_at[key]\n",
        "\n",
        "    return df\n",
        "\n",
        "df = data_cleaning_and_prep(df)"
      ]
    },
    {
      "cell_type": "markdown",
      "metadata": {},
      "source": [
        "After cleaning the data we are left with 481313 and now have 16 columns. "
      ]
    },
    {
      "cell_type": "code",
      "execution_count": 7,
      "metadata": {},
      "outputs": [
        {
          "data": {
            "text/plain": [
              "(481313, 16)"
            ]
          },
          "execution_count": 7,
          "metadata": {},
          "output_type": "execute_result"
        }
      ],
      "source": [
        "df.shape"
      ]
    },
    {
      "cell_type": "code",
      "execution_count": 8,
      "metadata": {},
      "outputs": [
        {
          "data": {
            "text/html": [
              "<div>\n",
              "<style scoped>\n",
              "    .dataframe tbody tr th:only-of-type {\n",
              "        vertical-align: middle;\n",
              "    }\n",
              "\n",
              "    .dataframe tbody tr th {\n",
              "        vertical-align: top;\n",
              "    }\n",
              "\n",
              "    .dataframe thead th {\n",
              "        text-align: right;\n",
              "    }\n",
              "</style>\n",
              "<table border=\"1\" class=\"dataframe\">\n",
              "  <thead>\n",
              "    <tr style=\"text-align: right;\">\n",
              "      <th></th>\n",
              "      <th>InvoiceNo</th>\n",
              "      <th>StockCode</th>\n",
              "      <th>Description</th>\n",
              "      <th>Quantity</th>\n",
              "      <th>InvoiceDate</th>\n",
              "      <th>UnitPrice</th>\n",
              "      <th>CustomerID</th>\n",
              "      <th>Country</th>\n",
              "      <th>Date</th>\n",
              "      <th>Month</th>\n",
              "      <th>Week of the Year</th>\n",
              "      <th>Day of Week</th>\n",
              "      <th>Time</th>\n",
              "      <th>Hour</th>\n",
              "      <th>Time of Day</th>\n",
              "      <th>Sales Revenue</th>\n",
              "    </tr>\n",
              "  </thead>\n",
              "  <tbody>\n",
              "    <tr>\n",
              "      <th>0</th>\n",
              "      <td>539993</td>\n",
              "      <td>22386</td>\n",
              "      <td>JUMBO BAG PINK POLKADOT</td>\n",
              "      <td>10</td>\n",
              "      <td>2011-01-04 10:00:00</td>\n",
              "      <td>1.95</td>\n",
              "      <td>13313.0</td>\n",
              "      <td>United Kingdom</td>\n",
              "      <td>2011-01-04</td>\n",
              "      <td>January</td>\n",
              "      <td>1</td>\n",
              "      <td>Tuesday</td>\n",
              "      <td>10:00:00</td>\n",
              "      <td>10</td>\n",
              "      <td>Morning</td>\n",
              "      <td>19.5</td>\n",
              "    </tr>\n",
              "    <tr>\n",
              "      <th>1</th>\n",
              "      <td>539993</td>\n",
              "      <td>21499</td>\n",
              "      <td>BLUE POLKADOT WRAP</td>\n",
              "      <td>25</td>\n",
              "      <td>2011-01-04 10:00:00</td>\n",
              "      <td>0.42</td>\n",
              "      <td>13313.0</td>\n",
              "      <td>United Kingdom</td>\n",
              "      <td>2011-01-04</td>\n",
              "      <td>January</td>\n",
              "      <td>1</td>\n",
              "      <td>Tuesday</td>\n",
              "      <td>10:00:00</td>\n",
              "      <td>10</td>\n",
              "      <td>Morning</td>\n",
              "      <td>10.5</td>\n",
              "    </tr>\n",
              "    <tr>\n",
              "      <th>2</th>\n",
              "      <td>539993</td>\n",
              "      <td>21498</td>\n",
              "      <td>RED RETROSPOT WRAP</td>\n",
              "      <td>25</td>\n",
              "      <td>2011-01-04 10:00:00</td>\n",
              "      <td>0.42</td>\n",
              "      <td>13313.0</td>\n",
              "      <td>United Kingdom</td>\n",
              "      <td>2011-01-04</td>\n",
              "      <td>January</td>\n",
              "      <td>1</td>\n",
              "      <td>Tuesday</td>\n",
              "      <td>10:00:00</td>\n",
              "      <td>10</td>\n",
              "      <td>Morning</td>\n",
              "      <td>10.5</td>\n",
              "    </tr>\n",
              "    <tr>\n",
              "      <th>3</th>\n",
              "      <td>539993</td>\n",
              "      <td>22379</td>\n",
              "      <td>RECYCLING BAG RETROSPOT</td>\n",
              "      <td>5</td>\n",
              "      <td>2011-01-04 10:00:00</td>\n",
              "      <td>2.10</td>\n",
              "      <td>13313.0</td>\n",
              "      <td>United Kingdom</td>\n",
              "      <td>2011-01-04</td>\n",
              "      <td>January</td>\n",
              "      <td>1</td>\n",
              "      <td>Tuesday</td>\n",
              "      <td>10:00:00</td>\n",
              "      <td>10</td>\n",
              "      <td>Morning</td>\n",
              "      <td>10.5</td>\n",
              "    </tr>\n",
              "    <tr>\n",
              "      <th>4</th>\n",
              "      <td>539993</td>\n",
              "      <td>20718</td>\n",
              "      <td>RED RETROSPOT SHOPPER BAG</td>\n",
              "      <td>10</td>\n",
              "      <td>2011-01-04 10:00:00</td>\n",
              "      <td>1.25</td>\n",
              "      <td>13313.0</td>\n",
              "      <td>United Kingdom</td>\n",
              "      <td>2011-01-04</td>\n",
              "      <td>January</td>\n",
              "      <td>1</td>\n",
              "      <td>Tuesday</td>\n",
              "      <td>10:00:00</td>\n",
              "      <td>10</td>\n",
              "      <td>Morning</td>\n",
              "      <td>12.5</td>\n",
              "    </tr>\n",
              "  </tbody>\n",
              "</table>\n",
              "</div>"
            ],
            "text/plain": [
              "  InvoiceNo StockCode                Description  Quantity  \\\n",
              "0    539993     22386    JUMBO BAG PINK POLKADOT        10   \n",
              "1    539993     21499         BLUE POLKADOT WRAP        25   \n",
              "2    539993     21498         RED RETROSPOT WRAP        25   \n",
              "3    539993     22379    RECYCLING BAG RETROSPOT         5   \n",
              "4    539993     20718  RED RETROSPOT SHOPPER BAG        10   \n",
              "\n",
              "          InvoiceDate  UnitPrice CustomerID         Country        Date  \\\n",
              "0 2011-01-04 10:00:00       1.95    13313.0  United Kingdom  2011-01-04   \n",
              "1 2011-01-04 10:00:00       0.42    13313.0  United Kingdom  2011-01-04   \n",
              "2 2011-01-04 10:00:00       0.42    13313.0  United Kingdom  2011-01-04   \n",
              "3 2011-01-04 10:00:00       2.10    13313.0  United Kingdom  2011-01-04   \n",
              "4 2011-01-04 10:00:00       1.25    13313.0  United Kingdom  2011-01-04   \n",
              "\n",
              "     Month  Week of the Year Day of Week      Time  Hour Time of Day  \\\n",
              "0  January                 1     Tuesday  10:00:00    10     Morning   \n",
              "1  January                 1     Tuesday  10:00:00    10     Morning   \n",
              "2  January                 1     Tuesday  10:00:00    10     Morning   \n",
              "3  January                 1     Tuesday  10:00:00    10     Morning   \n",
              "4  January                 1     Tuesday  10:00:00    10     Morning   \n",
              "\n",
              "   Sales Revenue  \n",
              "0           19.5  \n",
              "1           10.5  \n",
              "2           10.5  \n",
              "3           10.5  \n",
              "4           12.5  "
            ]
          },
          "execution_count": 8,
          "metadata": {},
          "output_type": "execute_result"
        }
      ],
      "source": [
        "df.head()"
      ]
    },
    {
      "cell_type": "code",
      "execution_count": 9,
      "metadata": {},
      "outputs": [
        {
          "name": "stdout",
          "output_type": "stream",
          "text": [
            "<class 'pandas.core.frame.DataFrame'>\n",
            "RangeIndex: 481313 entries, 0 to 481312\n",
            "Data columns (total 16 columns):\n",
            " #   Column            Non-Null Count   Dtype         \n",
            "---  ------            --------------   -----         \n",
            " 0   InvoiceNo         481313 non-null  object        \n",
            " 1   StockCode         481313 non-null  object        \n",
            " 2   Description       481313 non-null  object        \n",
            " 3   Quantity          481313 non-null  int64         \n",
            " 4   InvoiceDate       481313 non-null  datetime64[ns]\n",
            " 5   UnitPrice         481313 non-null  float64       \n",
            " 6   CustomerID        481313 non-null  object        \n",
            " 7   Country           481313 non-null  object        \n",
            " 8   Date              481313 non-null  object        \n",
            " 9   Month             481313 non-null  object        \n",
            " 10  Week of the Year  481313 non-null  UInt32        \n",
            " 11  Day of Week       481313 non-null  object        \n",
            " 12  Time              481313 non-null  object        \n",
            " 13  Hour              481313 non-null  int64         \n",
            " 14  Time of Day       481313 non-null  category      \n",
            " 15  Sales Revenue     481313 non-null  float64       \n",
            "dtypes: UInt32(1), category(1), datetime64[ns](1), float64(2), int64(2), object(9)\n",
            "memory usage: 54.2+ MB\n"
          ]
        }
      ],
      "source": [
        "df.info()"
      ]
    },
    {
      "cell_type": "code",
      "execution_count": 10,
      "metadata": {},
      "outputs": [
        {
          "data": {
            "text/html": [
              "<div>\n",
              "<style scoped>\n",
              "    .dataframe tbody tr th:only-of-type {\n",
              "        vertical-align: middle;\n",
              "    }\n",
              "\n",
              "    .dataframe tbody tr th {\n",
              "        vertical-align: top;\n",
              "    }\n",
              "\n",
              "    .dataframe thead th {\n",
              "        text-align: right;\n",
              "    }\n",
              "</style>\n",
              "<table border=\"1\" class=\"dataframe\">\n",
              "  <thead>\n",
              "    <tr style=\"text-align: right;\">\n",
              "      <th></th>\n",
              "      <th>Quantity</th>\n",
              "      <th>UnitPrice</th>\n",
              "      <th>Week of the Year</th>\n",
              "      <th>Hour</th>\n",
              "      <th>Sales Revenue</th>\n",
              "    </tr>\n",
              "  </thead>\n",
              "  <tbody>\n",
              "    <tr>\n",
              "      <th>count</th>\n",
              "      <td>481313.00000</td>\n",
              "      <td>481313.000000</td>\n",
              "      <td>481313.000000</td>\n",
              "      <td>481313.000000</td>\n",
              "      <td>481313.000000</td>\n",
              "    </tr>\n",
              "    <tr>\n",
              "      <th>mean</th>\n",
              "      <td>10.80504</td>\n",
              "      <td>3.252614</td>\n",
              "      <td>29.164677</td>\n",
              "      <td>13.066221</td>\n",
              "      <td>19.693793</td>\n",
              "    </tr>\n",
              "    <tr>\n",
              "      <th>std</th>\n",
              "      <td>162.79915</td>\n",
              "      <td>16.522079</td>\n",
              "      <td>14.743237</td>\n",
              "      <td>2.448566</td>\n",
              "      <td>280.999991</td>\n",
              "    </tr>\n",
              "    <tr>\n",
              "      <th>min</th>\n",
              "      <td>1.00000</td>\n",
              "      <td>0.001000</td>\n",
              "      <td>1.000000</td>\n",
              "      <td>6.000000</td>\n",
              "      <td>0.001000</td>\n",
              "    </tr>\n",
              "    <tr>\n",
              "      <th>25%</th>\n",
              "      <td>1.00000</td>\n",
              "      <td>1.250000</td>\n",
              "      <td>16.000000</td>\n",
              "      <td>11.000000</td>\n",
              "      <td>3.900000</td>\n",
              "    </tr>\n",
              "    <tr>\n",
              "      <th>50%</th>\n",
              "      <td>4.00000</td>\n",
              "      <td>2.080000</td>\n",
              "      <td>31.000000</td>\n",
              "      <td>13.000000</td>\n",
              "      <td>9.950000</td>\n",
              "    </tr>\n",
              "    <tr>\n",
              "      <th>75%</th>\n",
              "      <td>12.00000</td>\n",
              "      <td>4.130000</td>\n",
              "      <td>43.000000</td>\n",
              "      <td>15.000000</td>\n",
              "      <td>17.700000</td>\n",
              "    </tr>\n",
              "    <tr>\n",
              "      <th>max</th>\n",
              "      <td>80995.00000</td>\n",
              "      <td>11062.060000</td>\n",
              "      <td>49.000000</td>\n",
              "      <td>20.000000</td>\n",
              "      <td>168469.600000</td>\n",
              "    </tr>\n",
              "  </tbody>\n",
              "</table>\n",
              "</div>"
            ],
            "text/plain": [
              "           Quantity      UnitPrice  Week of the Year           Hour  \\\n",
              "count  481313.00000  481313.000000     481313.000000  481313.000000   \n",
              "mean       10.80504       3.252614         29.164677      13.066221   \n",
              "std       162.79915      16.522079         14.743237       2.448566   \n",
              "min         1.00000       0.001000          1.000000       6.000000   \n",
              "25%         1.00000       1.250000         16.000000      11.000000   \n",
              "50%         4.00000       2.080000         31.000000      13.000000   \n",
              "75%        12.00000       4.130000         43.000000      15.000000   \n",
              "max     80995.00000   11062.060000         49.000000      20.000000   \n",
              "\n",
              "       Sales Revenue  \n",
              "count  481313.000000  \n",
              "mean       19.693793  \n",
              "std       280.999991  \n",
              "min         0.001000  \n",
              "25%         3.900000  \n",
              "50%         9.950000  \n",
              "75%        17.700000  \n",
              "max    168469.600000  "
            ]
          },
          "execution_count": 10,
          "metadata": {},
          "output_type": "execute_result"
        }
      ],
      "source": [
        "df.describe()"
      ]
    },
    {
      "cell_type": "markdown",
      "metadata": {},
      "source": [
        "At this point, we load the clean data using the function above. We are also going to save the data to our AWS RDS MySQL database for later use in the Streamlit application of this project."
      ]
    },
    {
      "cell_type": "code",
      "execution_count": 12,
      "metadata": {},
      "outputs": [
        {
          "data": {
            "text/plain": [
              "481313"
            ]
          },
          "execution_count": 12,
          "metadata": {},
          "output_type": "execute_result"
        }
      ],
      "source": [
        "import mysql.connector as connection\n",
        "from sqlalchemy import create_engine\n",
        "import config\n",
        "\n",
        "host=config.host\n",
        "user=config.user\n",
        "password=config.password\n",
        "port = config.port\n",
        "\n",
        "conn = connection.connect(\n",
        "  host=host,\n",
        "  user=user,\n",
        "  password=password,\n",
        "  port = port,\n",
        ")\n",
        "mycursor = conn.cursor()\n",
        "\n",
        "database = config.database\n",
        "\n",
        "mycursor.execute(f\"CREATE DATABASE IF NOT EXISTS {database}\")\n",
        "\n",
        "mycursor.execute(\"SHOW DATABASES\")\n",
        "\n",
        "# create sqlalchemy engine\n",
        "engine = create_engine(f\"mysql+pymysql://{user}:{password}@{host}/{database}\")\n",
        "df.to_sql('MBA_Online-Retail_Data', con = engine, if_exists = 'append', index=False)"
      ]
    },
    {
      "cell_type": "code",
      "execution_count": null,
      "metadata": {},
      "outputs": [],
      "source": []
    },
    {
      "cell_type": "markdown",
      "metadata": {},
      "source": [
        "### **Exploratory Data Analysis**\n"
      ]
    },
    {
      "cell_type": "code",
      "execution_count": null,
      "metadata": {},
      "outputs": [],
      "source": []
    }
  ],
  "metadata": {
    "colab": {
      "include_colab_link": true,
      "name": "MBA_Online-Retail_Data.ipynb",
      "provenance": []
    },
    "kernelspec": {
      "display_name": "Python 3.9.13 ('m_b_a')",
      "language": "python",
      "name": "python3"
    },
    "language_info": {
      "codemirror_mode": {
        "name": "ipython",
        "version": 3
      },
      "file_extension": ".py",
      "mimetype": "text/x-python",
      "name": "python",
      "nbconvert_exporter": "python",
      "pygments_lexer": "ipython3",
      "version": "3.9.13"
    },
    "orig_nbformat": 4,
    "vscode": {
      "interpreter": {
        "hash": "303f6065bedc79c7a7aa6baa0fcbb09ccdd7ac80962c4f6151d1d17853bf569a"
      }
    }
  },
  "nbformat": 4,
  "nbformat_minor": 0
}
