{
 "cells": [
  {
   "cell_type": "markdown",
   "metadata": {},
   "source": [
    "## <center> **Market Basket Analysis on Online Retail Data** \n",
    "<center><em>Providing a Retail Business with a strategy which helps improve their product sales, inventory management, and customer retention, intern improving the profitability of the business.</em></center>\n",
    "<br>\n",
    "<center><img src=\"Assets/MBA.jpeg\" width=600/></center>\n",
    "\n",
    "***Project Contributors:*** Kuzi Rusere<br>"
   ]
  },
  {
   "cell_type": "code",
   "execution_count": null,
   "metadata": {},
   "outputs": [],
   "source": []
  },
  {
   "cell_type": "code",
   "execution_count": null,
   "metadata": {},
   "outputs": [],
   "source": []
  }
 ],
 "metadata": {
  "language_info": {
   "name": "python"
  },
  "orig_nbformat": 4
 },
 "nbformat": 4,
 "nbformat_minor": 2
}
